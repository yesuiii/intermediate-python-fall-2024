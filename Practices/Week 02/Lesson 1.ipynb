{
 "cells": [
  {
   "cell_type": "markdown",
   "id": "e7fb139f-6ef7-4ae9-96dd-ba1017102796",
   "metadata": {
    "tags": []
   },
   "source": [
    "#### Example on multiple decorators"
   ]
  },
  {
   "cell_type": "code",
   "execution_count": 1,
   "id": "6d296350-f4e8-455d-ac42-086c175324a0",
   "metadata": {
    "tags": []
   },
   "outputs": [],
   "source": [
    "def squared(x):\n",
    "  '''Returns the square of x'''\n",
    "  return x ** 2\n",
    "\n",
    "def add(x, y):\n",
    "  '''\n",
    "  Returns the sum of x and y\n",
    "  \n",
    "        Parameters: \n",
    "          a (int): Input as int\n",
    "          b (int): Input as int\n",
    "        Returns: \n",
    "          sum (int): Sum of x and y\n",
    "  '''\n",
    "  return x + y\n",
    "\n",
    "def negative(x):\n",
    "  '''Returns the x as a negative number'''\n",
    "  return x * -1"
   ]
  },
  {
   "cell_type": "code",
   "execution_count": 2,
   "id": "75167043-284c-4e28-b10f-cfc878a3460b",
   "metadata": {},
   "outputs": [
    {
     "name": "stdout",
     "output_type": "stream",
     "text": [
      "\n",
      "  Returns the sum of x and y\n",
      "  \n",
      "        Parameters: \n",
      "          a (int): Input as int\n",
      "          b (int): Input as int\n",
      "        Returns: \n",
      "          sum (int): Sum of x and y\n",
      "  \n"
     ]
    },
    {
     "data": {
      "text/plain": [
       "5"
      ]
     },
     "execution_count": 2,
     "metadata": {},
     "output_type": "execute_result"
    }
   ],
   "source": [
    "print(add.__doc__)\n",
    "add(2, 3)"
   ]
  },
  {
   "cell_type": "code",
   "execution_count": 5,
   "id": "bf1739a7-1e0d-4959-868a-f200a172ca9e",
   "metadata": {},
   "outputs": [
    {
     "data": {
      "text/plain": [
       "-9"
      ]
     },
     "execution_count": 5,
     "metadata": {},
     "output_type": "execute_result"
    }
   ],
   "source": [
    "negative(squared(add(1, 2)))"
   ]
  },
  {
   "cell_type": "code",
   "execution_count": 6,
   "id": "9819b84b-af8a-4250-ba93-92a619e9b419",
   "metadata": {
    "tags": []
   },
   "outputs": [],
   "source": [
    "def squared_dec(func):\n",
    "  def wrapper(*args, **kwargs):\n",
    "    rv = func(*args, **kwargs)\n",
    "    return rv ** 2\n",
    "  return wrapper\n",
    "\n",
    "def negative(func):\n",
    "  def wrapper(*args, **kwargs):\n",
    "    rv = func(*args, **kwargs)\n",
    "    return rv * -1\n",
    "  return wrapper "
   ]
  },
  {
   "cell_type": "code",
   "execution_count": 7,
   "id": "555fc92c-09c1-4a2f-ae2e-af8b155b9bae",
   "metadata": {
    "tags": []
   },
   "outputs": [
    {
     "data": {
      "text/plain": [
       "-9"
      ]
     },
     "execution_count": 7,
     "metadata": {},
     "output_type": "execute_result"
    }
   ],
   "source": [
    "@negative\n",
    "@squared_dec\n",
    "def add(x, y):\n",
    "  return x + y\n",
    "\n",
    "add(1, 2)"
   ]
  },
  {
   "cell_type": "code",
   "execution_count": 9,
   "id": "660eb09f-3ec4-4339-ad65-8989c47a957a",
   "metadata": {},
   "outputs": [],
   "source": [
    "import time"
   ]
  },
  {
   "cell_type": "code",
   "execution_count": 10,
   "id": "e2d9bd55-3c41-4eb5-a646-a3e221267f34",
   "metadata": {},
   "outputs": [
    {
     "name": "stdout",
     "output_type": "stream",
     "text": [
      "5.005629062652588\n"
     ]
    }
   ],
   "source": [
    "start_time = time.time()\n",
    "time.sleep(5)\n",
    "print(time.time()-start_time)"
   ]
  },
  {
   "cell_type": "code",
   "execution_count": 11,
   "id": "93947341-ab72-4ebe-ab0f-a36ed2ec8bee",
   "metadata": {
    "tags": []
   },
   "outputs": [
    {
     "name": "stdout",
     "output_type": "stream",
     "text": [
      "0.004141092300415039 seconds have passed\n"
     ]
    }
   ],
   "source": [
    "def timeit(func):\n",
    "  def wrapper(*args, **kwargs):\n",
    "    start_time = time.time()\n",
    "    rv = func()\n",
    "    print(time.time() - start_time, \"seconds have passed\")\n",
    "    return rv\n",
    "  return wrapper\n",
    "\n",
    "@timeit\n",
    "def test():\n",
    "  for i in range(100000):\n",
    "    pass\n",
    "  \n",
    "test()"
   ]
  },
  {
   "cell_type": "markdown",
   "id": "5eaef606-daf7-42fe-8276-2bea967a39b8",
   "metadata": {},
   "source": [
    "#### Scenario 1\n",
    "You wanna make a budget maker function. You need a few helper functions to get the result you want. "
   ]
  },
  {
   "cell_type": "code",
   "execution_count": 12,
   "id": "be4a97a9-dceb-4df2-b45a-e88c00c9147e",
   "metadata": {},
   "outputs": [],
   "source": [
    "def budget(current_income, expense):\n",
    "  return current_income - expense"
   ]
  },
  {
   "cell_type": "code",
   "execution_count": 13,
   "id": "413a98a6-3bf3-4615-9161-17191ec07eff",
   "metadata": {},
   "outputs": [],
   "source": [
    "# You also want to save some money\n",
    "def savings(income):\n",
    "  return income - 100"
   ]
  },
  {
   "cell_type": "markdown",
   "id": "980a2fdf-31c1-4a63-aa0c-971608f9dad9",
   "metadata": {},
   "source": [
    "Code below adds more complexity and more lines of code. savings must be called every time and repeating a same step is not good."
   ]
  },
  {
   "cell_type": "code",
   "execution_count": 15,
   "id": "3ec7a1c4-8887-464a-b4a4-f4bc538a1cae",
   "metadata": {},
   "outputs": [
    {
     "name": "stdout",
     "output_type": "stream",
     "text": [
      "Your budget this month 100\n"
     ]
    }
   ],
   "source": [
    "current_budget = budget(1000, 800)\n",
    "current_budget = savings(current_budget)\n",
    "print(\"Your budget this month\", current_budget)"
   ]
  },
  {
   "cell_type": "code",
   "execution_count": 16,
   "id": "32172464-a870-4519-96da-396250e1f1c4",
   "metadata": {},
   "outputs": [],
   "source": [
    "def savings(func):\n",
    "  def wrapper(*args, **kwargs):\n",
    "    rv = func(*args, **kwargs)\n",
    "    return rv - 100\n",
    "  return wrapper"
   ]
  },
  {
   "cell_type": "code",
   "execution_count": 17,
   "id": "7366a9b0-aaaf-4447-bb27-28fb4e8befc5",
   "metadata": {},
   "outputs": [
    {
     "name": "stdout",
     "output_type": "stream",
     "text": [
      "Your budget this month is 0\n"
     ]
    }
   ],
   "source": [
    "@savings\n",
    "def budget(current_income, expense):\n",
    "  return current_income - expense\n",
    "print(\"Your budget this month is\", budget(1000, 900))"
   ]
  },
  {
   "cell_type": "markdown",
   "id": "f65a45c7-788c-41cf-b63d-4905504a7314",
   "metadata": {},
   "source": [
    "##### But you have a side hustle"
   ]
  },
  {
   "cell_type": "code",
   "execution_count": 18,
   "id": "0dbd6d65-169a-4662-ab63-31455dd5ca84",
   "metadata": {},
   "outputs": [],
   "source": [
    "def side_hustle(func):\n",
    "  def wrapper(*args, **kwargs):\n",
    "    rv = func(*args, **kwargs)\n",
    "    return rv + 200\n",
    "  return wrapper"
   ]
  },
  {
   "cell_type": "code",
   "execution_count": 21,
   "id": "099036c6-6061-4c89-bdd4-cb9bb437b1c4",
   "metadata": {},
   "outputs": [
    {
     "name": "stdout",
     "output_type": "stream",
     "text": [
      "Your budget this month is 300\n"
     ]
    }
   ],
   "source": [
    "@side_hustle\n",
    "@savings\n",
    "def budget(current_income, expense):\n",
    "  return current_income - expense\n",
    "print(\"Your budget this month is\", budget(1000, 800))"
   ]
  },
  {
   "cell_type": "code",
   "execution_count": null,
   "id": "c862d1e7-c196-4e93-bbb8-1eb69e579f9a",
   "metadata": {},
   "outputs": [],
   "source": []
  }
 ],
 "metadata": {
  "kernelspec": {
   "display_name": "Python 3 (ipykernel)",
   "language": "python",
   "name": "python3"
  },
  "language_info": {
   "codemirror_mode": {
    "name": "ipython",
    "version": 3
   },
   "file_extension": ".py",
   "mimetype": "text/x-python",
   "name": "python",
   "nbconvert_exporter": "python",
   "pygments_lexer": "ipython3",
   "version": "3.8.17"
  }
 },
 "nbformat": 4,
 "nbformat_minor": 5
}
