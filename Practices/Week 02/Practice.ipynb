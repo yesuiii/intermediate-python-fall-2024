{
 "cells": [
  {
   "cell_type": "markdown",
   "id": "f2d229f4-f1d6-4a63-9da8-f2268b06d3f0",
   "metadata": {},
   "source": [
    "### Practice decorator"
   ]
  },
  {
   "cell_type": "markdown",
   "id": "752654f9-119f-4d2d-b89f-b9c3d05035c4",
   "metadata": {
    "tags": []
   },
   "source": [
    "#### Step 1: Create a function to calculate Body Mass Index.\n",
    "Body Mass Index is a simple calculation using a person's height and weight.\n",
    "\n",
    "The formula is `BMI = kg/m2` where kg is a person's weight in kilograms and m2 is their height in centimetres squared.\n",
    "Your function should take **weight** and **height** as inputs and return a bmi. Example: `yourfunction(78, 175)` should return 0.002553\n",
    "| BMI       | Status      |\n",
    "|-----------|-------------|\n",
    "| <= 18.4   | Underweight |\n",
    "| 18.5-24.9 | Normal      |\n",
    "| 25.0-39.9 | Overweight  |\n",
    "| >= 40.0   | Obese       |"
   ]
  },
  {
   "cell_type": "code",
   "execution_count": 85,
   "id": "118b2153-c5f9-4c12-9ec3-f708da872f55",
   "metadata": {},
   "outputs": [],
   "source": [
    "def squared(x):\n",
    "  '''Returns the square of x'''\n",
    "  return x ** 2\n",
    "\n",
    "def divide(x, y):\n",
    "  '''\n",
    "  Returns the sum of x and y\n",
    "  \n",
    "        Parameters: \n",
    "          a (int): Input as int\n",
    "          b (int): Input as int\n",
    "        Returns: \n",
    "          sum (int): Sum of x and y\n",
    "  '''\n",
    "  return x / y"
   ]
  },
  {
   "cell_type": "code",
   "execution_count": 124,
   "id": "50bce78c-f441-4aae-82e3-2cb983a08235",
   "metadata": {},
   "outputs": [
    {
     "data": {
      "text/plain": [
       "0.002546938775510204"
      ]
     },
     "execution_count": 124,
     "metadata": {},
     "output_type": "execute_result"
    }
   ],
   "source": [
    "# Write your code\n",
    "bmi1 = divide(78,squared(175))\n",
    "bmi1"
   ]
  },
  {
   "cell_type": "markdown",
   "id": "ae894211-e0aa-498a-ac21-0b19a965a089",
   "metadata": {
    "tags": []
   },
   "source": [
    "#### Step 2: Create a function to round up BMI\n",
    "Example: BMI of `0.0025535446391522234` should return `25.5`\n"
   ]
  },
  {
   "cell_type": "code",
   "execution_count": 117,
   "id": "76e57b7e-2805-426e-b335-19404fe2e0c9",
   "metadata": {},
   "outputs": [],
   "source": [
    "# Write your code\n",
    "def multi(x):\n",
    "  '''Returns the multiply by 1000 of x'''\n",
    "  return x * 10000"
   ]
  },
  {
   "cell_type": "code",
   "execution_count": 125,
   "id": "93a657bb-a48f-44c1-8085-976f048e9845",
   "metadata": {},
   "outputs": [
    {
     "data": {
      "text/plain": [
       "25.5"
      ]
     },
     "execution_count": 125,
     "metadata": {},
     "output_type": "execute_result"
    }
   ],
   "source": [
    "bmi2 = round(multi(bmi1),1)\n",
    "bmi2"
   ]
  },
  {
   "cell_type": "markdown",
   "id": "ef07e003-c1c2-48ba-ae8a-b02e1884497e",
   "metadata": {},
   "source": [
    "#### Step 3: Create a function to convert BMI into their Status\n",
    "Example: BMI of 21 should return `Normal`"
   ]
  },
  {
   "cell_type": "code",
   "execution_count": 126,
   "id": "1f0d0a29-1cd0-4699-bdef-9deb567a1453",
   "metadata": {},
   "outputs": [
    {
     "data": {
      "text/plain": [
       "'Normal'"
      ]
     },
     "execution_count": 126,
     "metadata": {},
     "output_type": "execute_result"
    }
   ],
   "source": [
    "def bmi_status(bmi):\n",
    "    if bmi <= 18.4:\n",
    "        return \"Underweight\"\n",
    "    elif 18.5-24.9:\n",
    "        return \"Normal\"\n",
    "    elif 25.0-39.9:\n",
    "        return \"Overweight\"\n",
    "    else:\n",
    "        return \"Obese\"\n",
    "status = bmi_status(bmi)\n",
    "status"
   ]
  },
  {
   "cell_type": "code",
   "execution_count": 128,
   "id": "a91fab11-d1a6-4ff7-bb4e-c816ebadfe86",
   "metadata": {},
   "outputs": [
    {
     "ename": "IndentationError",
     "evalue": "unindent does not match any outer indentation level (<tokenize>, line 4)",
     "output_type": "error",
     "traceback": [
      "\u001b[0;36m  File \u001b[0;32m<tokenize>:4\u001b[0;36m\u001b[0m\n\u001b[0;31m    elif bmi >= 18.5 and bmi <= 24.9:\u001b[0m\n\u001b[0m    ^\u001b[0m\n\u001b[0;31mIndentationError\u001b[0m\u001b[0;31m:\u001b[0m unindent does not match any outer indentation level\n"
     ]
    }
   ],
   "source": [
    "def get_status(bmi)\n",
    "if bmi <= 18.4:\n",
    "        return \"Underweight\"\n",
    "    elif bmi >= 18.5 and bmi <= 24.9:\n",
    "        return \"Normal\"\n",
    "    elif  bmi >= 25.0 and bmi <= 39.9:\n",
    "        return \"Overweight\"\n",
    "   elif  bmi >= 40:\n",
    "        return \"Obese\""
   ]
  },
  {
   "cell_type": "markdown",
   "id": "a5f349bc-549c-4ac1-9588-65e662637e72",
   "metadata": {
    "tags": []
   },
   "source": [
    "#### Step 4: Test your function to get the correct output\n",
    "Call your functions in correct order. Entering weight of 78 and height of 175 should return **Overweight**."
   ]
  },
  {
   "cell_type": "code",
   "execution_count": 109,
   "id": "091aa05f-8be5-44a1-808c-d4ac38514589",
   "metadata": {},
   "outputs": [
    {
     "ename": "NameError",
     "evalue": "name 'get_status' is not defined",
     "output_type": "error",
     "traceback": [
      "\u001b[0;31m---------------------------------------------------------------------------\u001b[0m",
      "\u001b[0;31mNameError\u001b[0m                                 Traceback (most recent call last)",
      "Cell \u001b[0;32mIn[109], line 2\u001b[0m\n\u001b[1;32m      1\u001b[0m \u001b[38;5;66;03m# Write your code\u001b[39;00m\n\u001b[0;32m----> 2\u001b[0m \u001b[43mget_status\u001b[49m(roundup(bmi(\u001b[38;5;241m78\u001b[39m,\u001b[38;5;241m175\u001b[39m)))\n",
      "\u001b[0;31mNameError\u001b[0m: name 'get_status' is not defined"
     ]
    }
   ],
   "source": [
    "# Write your code\n",
    "get_status(roundup(bmi(78,175)))"
   ]
  },
  {
   "cell_type": "markdown",
   "id": "5e3fa6e0-3e2a-4012-a174-8e12a9118bc3",
   "metadata": {},
   "source": [
    "#### Step 5: Make a Decorator function on `Step 2`\n",
    "Example: \n",
    "```\n",
    "def squared_dec(f):\n",
    "  def wrapper(*args, **kwargs):\n",
    "    rv = f(*args, **kwargs)\n",
    "    return rv ** 2\n",
    "  return wrapper\n",
    "```"
   ]
  },
  {
   "cell_type": "code",
   "execution_count": null,
   "id": "36c1aac9-0457-4369-aa9d-c1b97ecca081",
   "metadata": {},
   "outputs": [],
   "source": []
  },
  {
   "cell_type": "code",
   "execution_count": 5,
   "id": "8ab0e5df-9133-42e7-a9ca-519b941d4b24",
   "metadata": {},
   "outputs": [],
   "source": [
    "# Write your code\n"
   ]
  },
  {
   "cell_type": "markdown",
   "id": "7b86f769-81ad-4716-b954-749f171e9c2b",
   "metadata": {
    "tags": []
   },
   "source": [
    "#### Step 6: Make a Decorator function on `Step 3`\n",
    "Example: \n",
    "```\n",
    "def squared_dec(f):\n",
    "  def wrapper(*args, **kwargs):\n",
    "    rv = f(*args, **kwargs)\n",
    "    return rv ** 2\n",
    "  return wrapper\n",
    "```"
   ]
  },
  {
   "cell_type": "code",
   "execution_count": 6,
   "id": "dcbc28bd-e3e9-4cc3-9d27-605880faa2d2",
   "metadata": {},
   "outputs": [],
   "source": [
    "# Write your code\n"
   ]
  },
  {
   "cell_type": "markdown",
   "id": "49dbf889-4c6e-4d9b-8041-b56ce969ea59",
   "metadata": {
    "tags": []
   },
   "source": [
    "#### Step 7: Decorate `Step 1's` function with `Step 2`\n",
    "Example: \n",
    "```\n",
    "@myfunction\n",
    "def test():\n",
    "  return\n",
    "```"
   ]
  },
  {
   "cell_type": "code",
   "execution_count": 7,
   "id": "6b5a2f93-1955-4a99-855a-55f4bfaea2a4",
   "metadata": {},
   "outputs": [],
   "source": [
    "# Write your code\n"
   ]
  },
  {
   "cell_type": "markdown",
   "id": "d393e0d2-f51f-44c9-a1db-7fe0d439355f",
   "metadata": {
    "tags": []
   },
   "source": [
    "#### Step 8: Decorate `Step 1's` function with `Step 2` and `Step 3` functions in correct order\n",
    "Example: \n",
    "```\n",
    "@mytest\n",
    "@myfunction\n",
    "def test():\n",
    "  return\n",
    "```"
   ]
  },
  {
   "cell_type": "code",
   "execution_count": 8,
   "id": "ebcb8167-2f1b-47aa-8162-ad06450c920d",
   "metadata": {},
   "outputs": [],
   "source": [
    "# Write your code\n"
   ]
  }
 ],
 "metadata": {
  "kernelspec": {
   "display_name": "Python 3 (ipykernel)",
   "language": "python",
   "name": "python3"
  },
  "language_info": {
   "codemirror_mode": {
    "name": "ipython",
    "version": 3
   },
   "file_extension": ".py",
   "mimetype": "text/x-python",
   "name": "python",
   "nbconvert_exporter": "python",
   "pygments_lexer": "ipython3",
   "version": "3.8.17"
  }
 },
 "nbformat": 4,
 "nbformat_minor": 5
}
