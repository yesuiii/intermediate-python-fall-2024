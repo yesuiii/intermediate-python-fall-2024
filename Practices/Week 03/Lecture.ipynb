{
 "cells": [
  {
   "cell_type": "markdown",
   "id": "0278b7d7-3899-42a7-a948-6f7b5dba6253",
   "metadata": {},
   "source": [
    "# OOP Continued with `__str__` and `__repr__` methods\n",
    "\n",
    "* The `__str__` returns the string representation of a given object.\n",
    "* The `__repr__` returns a printable representation of the given object."
   ]
  },
  {
   "cell_type": "code",
   "execution_count": 2,
   "id": "69f0b68d-0f9f-4372-ad0f-8558fff8478f",
   "metadata": {},
   "outputs": [],
   "source": [
    "class Employee: \n",
    "    def __init__(self, name, age, id): \n",
    "        self.name = name \n",
    "        self.age = age\n",
    "        self.id = id \n",
    "# this is a comment"
   ]
  },
  {
   "cell_type": "markdown",
   "id": "4cc1501d-a530-40d3-a597-a06ce449443c",
   "metadata": {},
   "source": [
    "**Without __str__ and __repr__ methods, the object's memory address is returned**"
   ]
  },
  {
   "cell_type": "code",
   "execution_count": 3,
   "id": "e7b34bda-4048-418d-bf79-ff17798fea03",
   "metadata": {},
   "outputs": [
    {
     "name": "stdout",
     "output_type": "stream",
     "text": [
      "<__main__.Employee object at 0x7fea2044fd30>\n",
      "<__main__.Employee object at 0x7fea2044fd30>\n",
      "<__main__.Employee object at 0x7fea2044fd30>\n"
     ]
    }
   ],
   "source": [
    "employeeObject = Employee('John', 20, 1101)\n",
    "\n",
    "print(employeeObject)\n",
    "print(employeeObject.__str__())\n",
    "print(employeeObject.__repr__())"
   ]
  },
  {
   "cell_type": "markdown",
   "id": "d65108f5-9012-4799-9105-7b21bc7b81bc",
   "metadata": {},
   "source": [
    "**With only `__str__` method**"
   ]
  },
  {
   "cell_type": "code",
   "execution_count": 4,
   "id": "2225b659-4846-4cd1-b15e-de1c5a8e1d45",
   "metadata": {},
   "outputs": [
    {
     "name": "stdout",
     "output_type": "stream",
     "text": [
      "Employee name is John, employee's age is 20 and id is 1101\n",
      "Employee name is John, employee's age is 20 and id is 1101\n",
      "Employee name is John, employee's age is 20 and id is 1101\n",
      "<__main__.Employee object at 0x7fea20496700>\n"
     ]
    }
   ],
   "source": [
    "class Employee: \n",
    "    def __init__(self, name, age, id): \n",
    "        self.name = name \n",
    "        self.age = age\n",
    "        self.id = id \n",
    "    \n",
    "    def __str__(self):\n",
    "        return f'Employee name is {self.name}, employee\\'s age is {self.age} and id is {self.id}'\n",
    "\n",
    "employeeObject = Employee('John', 20, 1101)\n",
    "\n",
    "print(employeeObject)\n",
    "print(employeeObject.__str__())\n",
    "print(str(employeeObject))\n",
    "print(employeeObject.__repr__())\n"
   ]
  },
  {
   "cell_type": "markdown",
   "id": "e8e9cdc8-9ab1-437c-a8df-6ba7142b847a",
   "metadata": {},
   "source": [
    "**With only `__repr__` method**"
   ]
  },
  {
   "cell_type": "code",
   "execution_count": 5,
   "id": "e0c51aa9-70e2-466e-a3c6-942a0ee48a30",
   "metadata": {},
   "outputs": [
    {
     "name": "stdout",
     "output_type": "stream",
     "text": [
      "Employee(name = John, age = 20, id = 1101)\n",
      "Employee(name = John, age = 20, id = 1101)\n",
      "Employee(name = John, age = 20, id = 1101)\n",
      "Employee(name = John, age = 20, id = 1101)\n"
     ]
    }
   ],
   "source": [
    "class Employee: \n",
    "    def __init__(self, name, age, id): \n",
    "        self.name = name \n",
    "        self.age = age\n",
    "        self.id = id \n",
    "\n",
    "    def __repr__(self):\n",
    "        return f'Employee(name = {self.name}, age = {self.age}, id = {self.id})'\n",
    "\n",
    "\n",
    "employeeObject = Employee('John', 20, 1101)\n",
    "\n",
    "print(employeeObject)\n",
    "print(employeeObject.__str__())\n",
    "print(str(employeeObject))\n",
    "print(employeeObject.__repr__())"
   ]
  },
  {
   "cell_type": "markdown",
   "id": "7536872c-c46e-47c1-b9d9-d60945c434f1",
   "metadata": {},
   "source": [
    "#### With both `__str__` and `__repr__` methods\n",
    "\n",
    "* **The Python `__str__` method returns the user readable string form of an object that can be understood by the end users.**\n",
    "\n",
    "* **However, the `__repr__` method in python also returns a string representation of an object which can be used for debugging purposes and development**"
   ]
  },
  {
   "cell_type": "code",
   "execution_count": 6,
   "id": "07de1596-2c38-46fb-a4a3-5e5091087efe",
   "metadata": {},
   "outputs": [
    {
     "name": "stdout",
     "output_type": "stream",
     "text": [
      "Employee name is John, employee's age is 20 and id is 1101\n",
      "Employee name is John, employee's age is 20 and id is 1101\n",
      "Employee name is John, employee's age is 20 and id is 1101\n",
      "Employee(name = John, age = 20, id = 1101)\n"
     ]
    }
   ],
   "source": [
    "class Employee: \n",
    "    def __init__(self, name, age, id): \n",
    "        self.name = name \n",
    "        self.age = age\n",
    "        self.id = id \n",
    "    \n",
    "    def __str__(self):\n",
    "        return f'Employee name is {self.name}, employee\\'s age is {self.age} and id is {self.id}'\n",
    "        \n",
    "    def __repr__(self):\n",
    "        return f'Employee(name = {self.name}, age = {self.age}, id = {self.id})'\n",
    "\n",
    "\n",
    "employeeObject = Employee('John', 20, 1101)\n",
    "\n",
    "print(employeeObject)\n",
    "print(employeeObject.__str__())\n",
    "print(str(employeeObject))\n",
    "print(employeeObject.__repr__())"
   ]
  },
  {
   "cell_type": "markdown",
   "id": "ee9e6f8b-1e30-4dc4-be3c-7220c7fbde04",
   "metadata": {},
   "source": [
    "# `super().__init__()` allows us to access the parent class"
   ]
  },
  {
   "cell_type": "code",
   "execution_count": 9,
   "id": "e235f25a-4d29-4dfa-8ebf-f72da4793a9d",
   "metadata": {},
   "outputs": [
    {
     "data": {
      "text/plain": [
       "'YOUNG'"
      ]
     },
     "execution_count": 9,
     "metadata": {},
     "output_type": "execute_result"
    }
   ],
   "source": [
    "class Chicken:\n",
    "    def __init__(self, age, expected_eggs):\n",
    "        self.age = age\n",
    "        self.expected_eggs = expected_eggs\n",
    "\n",
    "    def is_old(self):\n",
    "        if self.age > 10:\n",
    "            return \"OLD\"\n",
    "        else:\n",
    "            return \"YOUNG\"\n",
    "        \n",
    "class ChickenChild(Chicken):\n",
    "    def __init__(self, name, age, expected_eggs):\n",
    "        # super().__init__(age, expected_eggs)\n",
    "        self.age = age\n",
    "        self.expected_eggs = expected_eggs\n",
    "        self.name = name\n",
    "        \n",
    "        \n",
    "lil_chicken =  ChickenChild('G', 2, 14)\n",
    "lil_chicken.is_old()"
   ]
  },
  {
   "cell_type": "markdown",
   "id": "60dbf96d-7646-479e-ab3a-697afb0ed56f",
   "metadata": {},
   "source": [
    "*Using `super()` to initialize the parent class is unnecessary in most cases.*\n",
    "**You have to use `super()` to initialize the parent class if your code logic becomes more complex**"
   ]
  },
  {
   "cell_type": "markdown",
   "id": "431b7bdc-a109-46c9-b435-0d2dd6600120",
   "metadata": {},
   "source": [
    "This approach seems okay until you start expanding the mixins and the inheritance gets complicated. In this case, maintaining each initializer becomes error-prone."
   ]
  },
  {
   "cell_type": "code",
   "execution_count": 10,
   "id": "82c66404-31e8-4170-8a2f-e448b38b0aea",
   "metadata": {},
   "outputs": [],
   "source": [
    "class User:\n",
    "    def __init__(self, username):\n",
    "        self.username = username\n",
    "\n",
    "class EmailMixin:\n",
    "    def __init__(self, email):\n",
    "        self.email = email\n",
    "\n",
    "class AddressMixin:\n",
    "    def __init__(self, address):\n",
    "        self.address = address\n",
    "\n",
    "class UserWithDetails(User, EmailMixin, AddressMixin):\n",
    "    def __init__(self, username, email, address):\n",
    "        User.__init__(self, username)\n",
    "        EmailMixin.__init__(self, email)\n",
    "        AddressMixin.__init__(self, address)"
   ]
  },
  {
   "cell_type": "markdown",
   "id": "3f6358b0-26bd-4bab-93d6-350a44eefd04",
   "metadata": {},
   "source": [
    "**Useful in the case below**\n",
    "* Multiple inheritance with multiple base classes having their own initializers.\n",
    "* An unknown or dynamic number of mixins or base classes that might be used in different combinations."
   ]
  },
  {
   "cell_type": "code",
   "execution_count": 20,
   "id": "7d63492a-a9ad-45eb-9872-b3090508035a",
   "metadata": {},
   "outputs": [],
   "source": [
    "class User:\n",
    "    def __init__(self, username, *args, **kwargs):\n",
    "        self.username = username\n",
    "        super().__init__(*args, **kwargs)\n",
    "\n",
    "class EmailMixin:\n",
    "    def __init__(self, email, *args, **kwargs):\n",
    "        self.email = email\n",
    "        super().__init__(*args, **kwargs)\n",
    "\n",
    "class AddressMixin:\n",
    "    def __init__(self, address, *args, **kwargs):\n",
    "        self.address = address\n",
    "        super().__init__(*args, **kwargs)\n",
    "\n",
    "class UserWithDetails(User, EmailMixin, AddressMixin):\n",
    "    def __init__(self, username, email, address):\n",
    "        super().__init__(username=username, email=email, address=address)"
   ]
  },
  {
   "cell_type": "code",
   "execution_count": null,
   "id": "a9ab1b91-bfac-4056-bcee-b8db2878b8dd",
   "metadata": {},
   "outputs": [],
   "source": []
  }
 ],
 "metadata": {
  "kernelspec": {
   "display_name": "Python 3 (ipykernel)",
   "language": "python",
   "name": "python3"
  },
  "language_info": {
   "codemirror_mode": {
    "name": "ipython",
    "version": 3
   },
   "file_extension": ".py",
   "mimetype": "text/x-python",
   "name": "python",
   "nbconvert_exporter": "python",
   "pygments_lexer": "ipython3",
   "version": "3.8.17"
  }
 },
 "nbformat": 4,
 "nbformat_minor": 5
}
