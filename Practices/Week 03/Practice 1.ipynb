{
 "cells": [
  {
   "cell_type": "markdown",
   "id": "f1a04536-8a07-42f3-b74c-72bd8f89ee63",
   "metadata": {},
   "source": [
    "# Object Oriented Programming Exercises\n",
    "\n",
    "Complete these exercises to test your skills!"
   ]
  },
  {
   "cell_type": "markdown",
   "id": "6be0dd52-0255-4085-a6a3-9e5ad978399c",
   "metadata": {},
   "source": [
    "## Exercise #1\n",
    "\n",
    "<!-- Create a class named \"Car\" that has two properties, **manufacturer** and **model**. -->\n",
    "* Create a class named *Vehicle* that has two properties, **vtype** and **made_year**\n",
    "* Create `__str__()` method to print out the **vtype** and **made_year**"
   ]
  },
  {
   "cell_type": "code",
   "execution_count": 8,
   "id": "5357465e-4a1f-4b29-a748-482024a16dd6",
   "metadata": {},
   "outputs": [
    {
     "name": "stdout",
     "output_type": "stream",
     "text": [
      "Vehicle type is car, made year is in 2010\n",
      "Vehicle type is car, made year is in 2010\n",
      "Vehicle type is car, made year is in 2010\n",
      "Vehicle type is car, made year is in 2010\n"
     ]
    }
   ],
   "source": [
    "class Vehicle:\n",
    "    def __init__ (self, vtype, made_year):\n",
    "        self.vtype = vtype\n",
    "        self.made_year = made_year\n",
    "    def __str__(self):\n",
    "        return f'Vehicle type is {self.vtype}, made year is in {self.made_year}'\n",
    "        \n",
    "    def __repr__(self):\n",
    "        return f'Vehicle type is {self.vtype}, made year is in {self.made_year}'\n",
    "vObject = Vehicle('car', 2010)\n",
    "\n",
    "print(vObject)\n",
    "print(vObject.__str__())\n",
    "print(str(vObject))\n",
    "print(vObject.__repr__())"
   ]
  },
  {
   "cell_type": "markdown",
   "id": "afe89b8d-3518-4925-8182-3f0ceec04ec0",
   "metadata": {},
   "source": [
    "## Exercise #2\n",
    "\n",
    "<!-- Create a child class named **Car** that inherits **Vehicle** class -->\n",
    "* Create a child class named **Car** that inherits a **Vehicle** and has two properties **manufacturer** and **model**.\n",
    "* Create `__str__()` method to print out the **vtype**, **made_year**, **manufacturer** and **model**"
   ]
  },
  {
   "cell_type": "code",
   "execution_count": 27,
   "id": "9b9168bc-0964-407b-8645-75dab95985d7",
   "metadata": {},
   "outputs": [
    {
     "name": "stdout",
     "output_type": "stream",
     "text": [
      "Vehicle type is g, made year is in m, car manufacturer is g, model is m\n",
      "Vehicle type is g, made year is in m, car manufacturer is g, model is m\n",
      "Vehicle type is g, made year is in m, car manufacturer is g, model is m\n",
      "Vehicle type is g, made year is in m, car manufacturer is g, model is m\n"
     ]
    }
   ],
   "source": [
    "class Vehicle:\n",
    "    def __init__ (self, vtype, made_year):\n",
    "        self.vtype = vtype\n",
    "        self.made_year = made_year\n",
    "\n",
    "class Car(Vehicle):\n",
    "    def __init__(self, vtype, made_year, manufacturer, model):\n",
    "        super().__init__(manufacturer, model)\n",
    "        self.manufacturer = manufacturer\n",
    "        self.model = model\n",
    "    def __str__(self):\n",
    "        return f'Vehicle type is {self.vtype}, made year is in {self.made_year}, car manufacturer is {self.manufacturer}, model is {self.model}'\n",
    "        \n",
    "    def __repr__(self):\n",
    "        return f'Vehicle type is {self.vtype}, made year is in {self.made_year}, car manufacturer is {self.manufacturer}, model is {self.model}'\n",
    "CarObject = Car('A', 2010, 'g', 'm')\n",
    "\n",
    "print(CarObject)\n",
    "print(CarObject.__str__())\n",
    "print(str(CarObject))\n",
    "print(CarObject.__repr__())"
   ]
  },
  {
   "cell_type": "markdown",
   "id": "3364303e-1f8a-4922-92c0-39c4c752bf51",
   "metadata": {},
   "source": [
    "## Exercise #3\n",
    "\n",
    "Instantiate **Car** class and call the **__str__** method.\n",
    "\n",
    "Example: calling **Car** class with \"toyota\" and \"Highlander\" should print out the following:\n",
    "```\n",
    "Type is:  SUV\n",
    "Made year is:  2015\n",
    "Manufacturer is:  toyota\n",
    "Model is:  Highlander\n",
    "```"
   ]
  },
  {
   "cell_type": "code",
   "execution_count": 40,
   "id": "d8850031-f1f4-413d-acd2-48e061db2e73",
   "metadata": {},
   "outputs": [
    {
     "name": "stdout",
     "output_type": "stream",
     "text": [
      "\n",
      "        Type is: g\n",
      "        Made year is: m\n",
      "        Manufacturer is: g\n",
      "        Model is m\"\n",
      "        \n"
     ]
    }
   ],
   "source": [
    "class Car(Vehicle):\n",
    "    def __init__(self, vtype, made_year, manufacturer, model):\n",
    "        super().__init__(manufacturer, model)\n",
    "        self.manufacturer = manufacturer\n",
    "        self.model = model\n",
    "        \n",
    "    def __str__(self):\n",
    "        return f\"\"\"\n",
    "        Type is: {self.vtype}\n",
    "        Made year is: {self.made_year}\n",
    "        Manufacturer is: {self.manufacturer}\n",
    "        Model is {self.model}\"\n",
    "        \"\"\"\n",
    "CarObject = Car('A', 2010, 'g', 'm')\n",
    "\n",
    "print(CarObject)\n",
    "# print(CarObject.__str__())\n",
    "# print(str(CarObject))\n",
    "# print(CarObject.__repr__())"
   ]
  },
  {
   "cell_type": "code",
   "execution_count": null,
   "id": "094988b0-7d31-4c49-8f42-bf9bf065ac5e",
   "metadata": {},
   "outputs": [],
   "source": []
  }
 ],
 "metadata": {
  "kernelspec": {
   "display_name": "Python 3 (ipykernel)",
   "language": "python",
   "name": "python3"
  },
  "language_info": {
   "codemirror_mode": {
    "name": "ipython",
    "version": 3
   },
   "file_extension": ".py",
   "mimetype": "text/x-python",
   "name": "python",
   "nbconvert_exporter": "python",
   "pygments_lexer": "ipython3",
   "version": "3.8.17"
  }
 },
 "nbformat": 4,
 "nbformat_minor": 5
}
