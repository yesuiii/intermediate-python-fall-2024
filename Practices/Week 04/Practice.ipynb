{
 "cells": [
  {
   "cell_type": "markdown",
   "id": "e219eb82-9d55-4739-a0ca-45288d355d2f",
   "metadata": {},
   "source": [
    "### Step 1: Create a package named `dataframe_cleaner`"
   ]
  },
  {
   "cell_type": "markdown",
   "id": "c6059aba-5d48-4513-90b2-b9ddfdb9d518",
   "metadata": {},
   "source": [
    "### Step 2: Read the sample csv file\n",
    "* You need to read the `sample_employees.csv` file as a DataFrame and test your functions"
   ]
  },
  {
   "cell_type": "markdown",
   "id": "cca2a6d7-2a48-4c82-816b-d3478d59370d",
   "metadata": {},
   "source": [
    "### Step 3: Create separate functions in `__init__.py`\n",
    "1. import pandas\n",
    "2. `drop_empty` takes pandas dataframe as an input and drops any row with empty value. Use pandas' `dropna`.\n",
    "    * Use sample `DataFrame` to test\n",
    "3. `fill_empty` takes pandas dataframe and column name as inputs and fills the given column's empty values using mean. Use pandas' `fillna`.\n",
    "    * Use sample `DataFrame` to test\n",
    "4. `drop_column` takes pandas dataframe and column name as inputs and drops the given column and returns the rest of the dataframe. Use pandas' `drop`.\n",
    "    * Use sample `DataFrame` to test\n",
    "5. `fix_index` takes pandas dataframe as an input and resets its index and returns it. Use pandas' `reset_index` and drop the old index column.\n",
    "    * Use sample `DataFrame` to test\n",
    "6. `fix_dates` takes pandas dataframe and column name as input. Changes given column's data type into datetime. Use pandas' `to_datetime` function.\n",
    "    * Use sample `DataFrame` to test"
   ]
  },
  {
   "cell_type": "code",
   "execution_count": 16,
   "id": "b97392ec-3e15-45d7-8205-58ae57b60e45",
   "metadata": {},
   "outputs": [],
   "source": [
    "from dataframe_cleaner import *\n",
    "import pandas as pd"
   ]
  },
  {
   "cell_type": "code",
   "execution_count": 17,
   "id": "600b6188-4737-4184-af58-cfcc50cc906e",
   "metadata": {},
   "outputs": [],
   "source": [
    "df = pd.read_csv('sample_employees.csv')"
   ]
  },
  {
   "cell_type": "code",
   "execution_count": 18,
   "id": "656086a3-1e5b-4f26-9688-78851db77b04",
   "metadata": {},
   "outputs": [
    {
     "name": "stdout",
     "output_type": "stream",
     "text": [
      "Drop the empty value of the data:     first_name    last_name                            email  gender  \\\n",
      "2       August       Nelmes                 anelmes2@bbb.org    Male   \n",
      "6    Whittaker        Cluet            wcluet6@angelfire.com    Male   \n",
      "8     Timothee       McVane          tmcvane8@opensource.org    Male   \n",
      "11       Shell  Zecchinelli  szecchinellib@blogtalkradio.com    Male   \n",
      "12        Dill      Iglesia                   diglesiac@g.co    Male   \n",
      "..         ...          ...                              ...     ...   \n",
      "990   Theobald       Hatley            thatleyri@state.tx.us    Male   \n",
      "992     Franky       McDell          fmcdellrk@pinterest.com  Female   \n",
      "993    Maurine      Greeson            mgreesonrl@census.gov  Female   \n",
      "996     Cristy     Nortunen         cnortunenro@freewebs.com  Female   \n",
      "999   Catriona        Rapps                  crappsrr@nhs.uk  Female   \n",
      "\n",
      "    employed_date                department    salary  bonus  \n",
      "2        9/7/2014                Accounting  161814.0   14.0  \n",
      "6       4/13/2018                  Services  114440.0   11.0  \n",
      "8        9/5/2013                   Support  117430.0    8.0  \n",
      "11      2/27/2016        Product Management  154034.0   13.0  \n",
      "12      2/19/2018                   Support   64334.0    4.0  \n",
      "..            ...                       ...       ...    ...  \n",
      "990      5/9/2016           Human Resources  175423.0   12.0  \n",
      "992     4/24/2017      Business Development   85666.0   12.0  \n",
      "993     8/15/2018  Research and Development   95521.0    7.0  \n",
      "996     1/28/2016               Engineering  120389.0    2.0  \n",
      "999     3/27/2013                 Marketing   93899.0    3.0  \n",
      "\n",
      "[464 rows x 8 columns]\n"
     ]
    }
   ],
   "source": [
    "print(\"Drop the empty value of the data:\", dataframe_cleaner.drop_empty(df))"
   ]
  },
  {
   "cell_type": "code",
   "execution_count": 19,
   "id": "ed100ffc-4482-466d-b22d-46de72d47c9c",
   "metadata": {},
   "outputs": [
    {
     "ename": "TypeError",
     "evalue": "fill_empty() missing 1 required positional argument: 'column_name'",
     "output_type": "error",
     "traceback": [
      "\u001b[0;31m---------------------------------------------------------------------------\u001b[0m",
      "\u001b[0;31mTypeError\u001b[0m                                 Traceback (most recent call last)",
      "Cell \u001b[0;32mIn[19], line 1\u001b[0m\n\u001b[0;32m----> 1\u001b[0m \u001b[38;5;28mprint\u001b[39m(\u001b[38;5;124m\"\u001b[39m\u001b[38;5;124mFill the empty value of the data:\u001b[39m\u001b[38;5;124m\"\u001b[39m, \u001b[43mdataframe_cleaner\u001b[49m\u001b[38;5;241;43m.\u001b[39;49m\u001b[43mfill_empty\u001b[49m\u001b[43m(\u001b[49m\u001b[43mdf\u001b[49m\u001b[43m)\u001b[49m)\n",
      "\u001b[0;31mTypeError\u001b[0m: fill_empty() missing 1 required positional argument: 'column_name'"
     ]
    }
   ],
   "source": [
    "print(\"Fill the empty value of the data:\", dataframe_cleaner.fill_empty(df))"
   ]
  },
  {
   "cell_type": "code",
   "execution_count": 20,
   "id": "19d424aa-63d5-4565-b961-735f7abb6965",
   "metadata": {},
   "outputs": [
    {
     "ename": "ValueError",
     "evalue": "Need to specify at least one of 'labels', 'index' or 'columns'",
     "output_type": "error",
     "traceback": [
      "\u001b[0;31m---------------------------------------------------------------------------\u001b[0m",
      "\u001b[0;31mValueError\u001b[0m                                Traceback (most recent call last)",
      "Cell \u001b[0;32mIn[20], line 1\u001b[0m\n\u001b[0;32m----> 1\u001b[0m \u001b[38;5;28mprint\u001b[39m(\u001b[38;5;124m\"\u001b[39m\u001b[38;5;124mDrop the empty column of the data:\u001b[39m\u001b[38;5;124m\"\u001b[39m, \u001b[43mdataframe_cleaner\u001b[49m\u001b[38;5;241;43m.\u001b[39;49m\u001b[43mdrop_column\u001b[49m\u001b[43m(\u001b[49m\u001b[43mdf\u001b[49m\u001b[43m)\u001b[49m)\n",
      "File \u001b[0;32m~/Downloads/Letu/2024 Fall/intermediate python/GitHub/intermediate-python-fall-2024/Practices/Week 04/dataframe_cleaner/__init__.py:10\u001b[0m, in \u001b[0;36mdrop_column\u001b[0;34m(df)\u001b[0m\n\u001b[1;32m      8\u001b[0m \n\u001b[1;32m      9\u001b[0m drop_column(df, col):\n\u001b[0;32m---> 10\u001b[0m return df.drop(colums=[col])\n\u001b[1;32m     11\u001b[0m \n\u001b[1;32m     12\u001b[0m fix_index(df):\n",
      "File \u001b[0;32m~/Library/jupyterlab-desktop/jlab_server/lib/python3.8/site-packages/pandas/core/frame.py:5258\u001b[0m, in \u001b[0;36mDataFrame.drop\u001b[0;34m(self, labels, axis, index, columns, level, inplace, errors)\u001b[0m\n\u001b[1;32m   5110\u001b[0m \u001b[38;5;28;01mdef\u001b[39;00m \u001b[38;5;21mdrop\u001b[39m(\n\u001b[1;32m   5111\u001b[0m     \u001b[38;5;28mself\u001b[39m,\n\u001b[1;32m   5112\u001b[0m     labels: IndexLabel \u001b[38;5;241m=\u001b[39m \u001b[38;5;28;01mNone\u001b[39;00m,\n\u001b[0;32m   (...)\u001b[0m\n\u001b[1;32m   5119\u001b[0m     errors: IgnoreRaise \u001b[38;5;241m=\u001b[39m \u001b[38;5;124m\"\u001b[39m\u001b[38;5;124mraise\u001b[39m\u001b[38;5;124m\"\u001b[39m,\n\u001b[1;32m   5120\u001b[0m ) \u001b[38;5;241m-\u001b[39m\u001b[38;5;241m>\u001b[39m DataFrame \u001b[38;5;241m|\u001b[39m \u001b[38;5;28;01mNone\u001b[39;00m:\n\u001b[1;32m   5121\u001b[0m \u001b[38;5;250m    \u001b[39m\u001b[38;5;124;03m\"\"\"\u001b[39;00m\n\u001b[1;32m   5122\u001b[0m \u001b[38;5;124;03m    Drop specified labels from rows or columns.\u001b[39;00m\n\u001b[1;32m   5123\u001b[0m \n\u001b[0;32m   (...)\u001b[0m\n\u001b[1;32m   5256\u001b[0m \u001b[38;5;124;03m            weight  1.0     0.8\u001b[39;00m\n\u001b[1;32m   5257\u001b[0m \u001b[38;5;124;03m    \"\"\"\u001b[39;00m\n\u001b[0;32m-> 5258\u001b[0m     \u001b[38;5;28;01mreturn\u001b[39;00m \u001b[38;5;28;43msuper\u001b[39;49m\u001b[43m(\u001b[49m\u001b[43m)\u001b[49m\u001b[38;5;241;43m.\u001b[39;49m\u001b[43mdrop\u001b[49m\u001b[43m(\u001b[49m\n\u001b[1;32m   5259\u001b[0m \u001b[43m        \u001b[49m\u001b[43mlabels\u001b[49m\u001b[38;5;241;43m=\u001b[39;49m\u001b[43mlabels\u001b[49m\u001b[43m,\u001b[49m\n\u001b[1;32m   5260\u001b[0m \u001b[43m        \u001b[49m\u001b[43maxis\u001b[49m\u001b[38;5;241;43m=\u001b[39;49m\u001b[43maxis\u001b[49m\u001b[43m,\u001b[49m\n\u001b[1;32m   5261\u001b[0m \u001b[43m        \u001b[49m\u001b[43mindex\u001b[49m\u001b[38;5;241;43m=\u001b[39;49m\u001b[43mindex\u001b[49m\u001b[43m,\u001b[49m\n\u001b[1;32m   5262\u001b[0m \u001b[43m        \u001b[49m\u001b[43mcolumns\u001b[49m\u001b[38;5;241;43m=\u001b[39;49m\u001b[43mcolumns\u001b[49m\u001b[43m,\u001b[49m\n\u001b[1;32m   5263\u001b[0m \u001b[43m        \u001b[49m\u001b[43mlevel\u001b[49m\u001b[38;5;241;43m=\u001b[39;49m\u001b[43mlevel\u001b[49m\u001b[43m,\u001b[49m\n\u001b[1;32m   5264\u001b[0m \u001b[43m        \u001b[49m\u001b[43minplace\u001b[49m\u001b[38;5;241;43m=\u001b[39;49m\u001b[43minplace\u001b[49m\u001b[43m,\u001b[49m\n\u001b[1;32m   5265\u001b[0m \u001b[43m        \u001b[49m\u001b[43merrors\u001b[49m\u001b[38;5;241;43m=\u001b[39;49m\u001b[43merrors\u001b[49m\u001b[43m,\u001b[49m\n\u001b[1;32m   5266\u001b[0m \u001b[43m    \u001b[49m\u001b[43m)\u001b[49m\n",
      "File \u001b[0;32m~/Library/jupyterlab-desktop/jlab_server/lib/python3.8/site-packages/pandas/core/generic.py:4541\u001b[0m, in \u001b[0;36mNDFrame.drop\u001b[0;34m(self, labels, axis, index, columns, level, inplace, errors)\u001b[0m\n\u001b[1;32m   4539\u001b[0m         axes[\u001b[38;5;124m\"\u001b[39m\u001b[38;5;124mcolumns\u001b[39m\u001b[38;5;124m\"\u001b[39m] \u001b[38;5;241m=\u001b[39m columns\n\u001b[1;32m   4540\u001b[0m \u001b[38;5;28;01melse\u001b[39;00m:\n\u001b[0;32m-> 4541\u001b[0m     \u001b[38;5;28;01mraise\u001b[39;00m \u001b[38;5;167;01mValueError\u001b[39;00m(\n\u001b[1;32m   4542\u001b[0m         \u001b[38;5;124m\"\u001b[39m\u001b[38;5;124mNeed to specify at least one of \u001b[39m\u001b[38;5;124m'\u001b[39m\u001b[38;5;124mlabels\u001b[39m\u001b[38;5;124m'\u001b[39m\u001b[38;5;124m, \u001b[39m\u001b[38;5;124m'\u001b[39m\u001b[38;5;124mindex\u001b[39m\u001b[38;5;124m'\u001b[39m\u001b[38;5;124m or \u001b[39m\u001b[38;5;124m'\u001b[39m\u001b[38;5;124mcolumns\u001b[39m\u001b[38;5;124m'\u001b[39m\u001b[38;5;124m\"\u001b[39m\n\u001b[1;32m   4543\u001b[0m     )\n\u001b[1;32m   4545\u001b[0m obj \u001b[38;5;241m=\u001b[39m \u001b[38;5;28mself\u001b[39m\n\u001b[1;32m   4547\u001b[0m \u001b[38;5;28;01mfor\u001b[39;00m axis, labels \u001b[38;5;129;01min\u001b[39;00m axes\u001b[38;5;241m.\u001b[39mitems():\n",
      "\u001b[0;31mValueError\u001b[0m: Need to specify at least one of 'labels', 'index' or 'columns'"
     ]
    }
   ],
   "source": [
    "print(\"Drop the empty column of the data:\", dataframe_cleaner.drop_column(df))"
   ]
  },
  {
   "cell_type": "code",
   "execution_count": 21,
   "id": "fb93a44d-37aa-4ea8-bb74-29d270d63226",
   "metadata": {},
   "outputs": [],
   "source": [
    "import pandas as pd\n",
    "\n",
    "def drop_empty(df: pd.DataFrame) -> pd.DataFrame:\n",
    "    return df.dropna()\n",
    "\n",
    "# def fill_empty(df, col:\n",
    "#     return df.fillna(df[col].mean())\n",
    "    \n",
    "def drop_column(df, col):\n",
    "    return df.drop(colums=[col])\n",
    "\n",
    "def fix_index(df):\n",
    "    return df.reset_index(drop= True)\n",
    "\n",
    "def fix_dates(df, col):\n",
    "    return pd.to_datetime(df, col)"
   ]
  },
  {
   "cell_type": "code",
   "execution_count": 28,
   "id": "5a220730-7547-491e-91fe-6655c209f7d7",
   "metadata": {},
   "outputs": [
    {
     "data": {
      "text/html": [
       "<div>\n",
       "<style scoped>\n",
       "    .dataframe tbody tr th:only-of-type {\n",
       "        vertical-align: middle;\n",
       "    }\n",
       "\n",
       "    .dataframe tbody tr th {\n",
       "        vertical-align: top;\n",
       "    }\n",
       "\n",
       "    .dataframe thead th {\n",
       "        text-align: right;\n",
       "    }\n",
       "</style>\n",
       "<table border=\"1\" class=\"dataframe\">\n",
       "  <thead>\n",
       "    <tr style=\"text-align: right;\">\n",
       "      <th></th>\n",
       "      <th>first_name</th>\n",
       "      <th>last_name</th>\n",
       "      <th>email</th>\n",
       "      <th>gender</th>\n",
       "      <th>employed_date</th>\n",
       "      <th>department</th>\n",
       "      <th>salary</th>\n",
       "      <th>bonus</th>\n",
       "    </tr>\n",
       "  </thead>\n",
       "  <tbody>\n",
       "    <tr>\n",
       "      <th>2</th>\n",
       "      <td>August</td>\n",
       "      <td>Nelmes</td>\n",
       "      <td>anelmes2@bbb.org</td>\n",
       "      <td>Male</td>\n",
       "      <td>9/7/2014</td>\n",
       "      <td>Accounting</td>\n",
       "      <td>161814.0</td>\n",
       "      <td>14.0</td>\n",
       "    </tr>\n",
       "    <tr>\n",
       "      <th>6</th>\n",
       "      <td>Whittaker</td>\n",
       "      <td>Cluet</td>\n",
       "      <td>wcluet6@angelfire.com</td>\n",
       "      <td>Male</td>\n",
       "      <td>4/13/2018</td>\n",
       "      <td>Services</td>\n",
       "      <td>114440.0</td>\n",
       "      <td>11.0</td>\n",
       "    </tr>\n",
       "    <tr>\n",
       "      <th>8</th>\n",
       "      <td>Timothee</td>\n",
       "      <td>McVane</td>\n",
       "      <td>tmcvane8@opensource.org</td>\n",
       "      <td>Male</td>\n",
       "      <td>9/5/2013</td>\n",
       "      <td>Support</td>\n",
       "      <td>117430.0</td>\n",
       "      <td>8.0</td>\n",
       "    </tr>\n",
       "    <tr>\n",
       "      <th>11</th>\n",
       "      <td>Shell</td>\n",
       "      <td>Zecchinelli</td>\n",
       "      <td>szecchinellib@blogtalkradio.com</td>\n",
       "      <td>Male</td>\n",
       "      <td>2/27/2016</td>\n",
       "      <td>Product Management</td>\n",
       "      <td>154034.0</td>\n",
       "      <td>13.0</td>\n",
       "    </tr>\n",
       "    <tr>\n",
       "      <th>12</th>\n",
       "      <td>Dill</td>\n",
       "      <td>Iglesia</td>\n",
       "      <td>diglesiac@g.co</td>\n",
       "      <td>Male</td>\n",
       "      <td>2/19/2018</td>\n",
       "      <td>Support</td>\n",
       "      <td>64334.0</td>\n",
       "      <td>4.0</td>\n",
       "    </tr>\n",
       "  </tbody>\n",
       "</table>\n",
       "</div>"
      ],
      "text/plain": [
       "   first_name    last_name                            email gender  \\\n",
       "2      August       Nelmes                 anelmes2@bbb.org   Male   \n",
       "6   Whittaker        Cluet            wcluet6@angelfire.com   Male   \n",
       "8    Timothee       McVane          tmcvane8@opensource.org   Male   \n",
       "11      Shell  Zecchinelli  szecchinellib@blogtalkradio.com   Male   \n",
       "12       Dill      Iglesia                   diglesiac@g.co   Male   \n",
       "\n",
       "   employed_date          department    salary  bonus  \n",
       "2       9/7/2014          Accounting  161814.0   14.0  \n",
       "6      4/13/2018            Services  114440.0   11.0  \n",
       "8       9/5/2013             Support  117430.0    8.0  \n",
       "11     2/27/2016  Product Management  154034.0   13.0  \n",
       "12     2/19/2018             Support   64334.0    4.0  "
      ]
     },
     "execution_count": 28,
     "metadata": {},
     "output_type": "execute_result"
    }
   ],
   "source": [
    "drop_empty(df).head(5)"
   ]
  },
  {
   "cell_type": "code",
   "execution_count": 29,
   "id": "22c2d052-ef1d-4067-a33d-7d625c45caa3",
   "metadata": {},
   "outputs": [
    {
     "ename": "TypeError",
     "evalue": "drop() got an unexpected keyword argument 'colums'",
     "output_type": "error",
     "traceback": [
      "\u001b[0;31m---------------------------------------------------------------------------\u001b[0m",
      "\u001b[0;31mTypeError\u001b[0m                                 Traceback (most recent call last)",
      "Cell \u001b[0;32mIn[29], line 1\u001b[0m\n\u001b[0;32m----> 1\u001b[0m \u001b[43mdrop_column\u001b[49m\u001b[43m(\u001b[49m\u001b[43mdf\u001b[49m\u001b[43m,\u001b[49m\u001b[43m \u001b[49m\u001b[38;5;124;43m'\u001b[39;49m\u001b[38;5;124;43memail\u001b[39;49m\u001b[38;5;124;43m'\u001b[39;49m\u001b[43m)\u001b[49m\n",
      "Cell \u001b[0;32mIn[21], line 10\u001b[0m, in \u001b[0;36mdrop_column\u001b[0;34m(df, col)\u001b[0m\n\u001b[1;32m      9\u001b[0m \u001b[38;5;28;01mdef\u001b[39;00m \u001b[38;5;21mdrop_column\u001b[39m(df, col):\n\u001b[0;32m---> 10\u001b[0m     \u001b[38;5;28;01mreturn\u001b[39;00m \u001b[43mdf\u001b[49m\u001b[38;5;241;43m.\u001b[39;49m\u001b[43mdrop\u001b[49m\u001b[43m(\u001b[49m\u001b[43mcolums\u001b[49m\u001b[38;5;241;43m=\u001b[39;49m\u001b[43m[\u001b[49m\u001b[43mcol\u001b[49m\u001b[43m]\u001b[49m\u001b[43m)\u001b[49m\n",
      "\u001b[0;31mTypeError\u001b[0m: drop() got an unexpected keyword argument 'colums'"
     ]
    }
   ],
   "source": [
    "drop_column(df, 'email')"
   ]
  },
  {
   "cell_type": "code",
   "execution_count": null,
   "id": "8b4270a9-dc76-4fbe-b8a5-69b31c15bcde",
   "metadata": {},
   "outputs": [],
   "source": []
  }
 ],
 "metadata": {
  "kernelspec": {
   "display_name": "Python 3 (ipykernel)",
   "language": "python",
   "name": "python3"
  },
  "language_info": {
   "codemirror_mode": {
    "name": "ipython",
    "version": 3
   },
   "file_extension": ".py",
   "mimetype": "text/x-python",
   "name": "python",
   "nbconvert_exporter": "python",
   "pygments_lexer": "ipython3",
   "version": "3.8.17"
  }
 },
 "nbformat": 4,
 "nbformat_minor": 5
}
