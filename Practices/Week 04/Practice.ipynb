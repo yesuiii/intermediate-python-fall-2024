{
 "cells": [
  {
   "cell_type": "markdown",
   "id": "e219eb82-9d55-4739-a0ca-45288d355d2f",
   "metadata": {},
   "source": [
    "### Step 1: Create a package named `dataframe_cleaner`"
   ]
  },
  {
   "cell_type": "markdown",
   "id": "c6059aba-5d48-4513-90b2-b9ddfdb9d518",
   "metadata": {},
   "source": [
    "### Step 2: Read the sample csv file\n",
    "* You need to read the `sample_employees.csv` file as a DataFrame and test your functions"
   ]
  },
  {
   "cell_type": "markdown",
   "id": "cca2a6d7-2a48-4c82-816b-d3478d59370d",
   "metadata": {},
   "source": [
    "### Step 3: Create separate functions in `__init__.py`\n",
    "1. import pandas\n",
    "2. `drop_empty` takes pandas dataframe as an input and drops any row with empty value. Use pandas' `dropna`.\n",
    "    * Use sample `DataFrame` to test\n",
    "3. `fill_empty` takes pandas dataframe and column name as inputs and fills the given column's empty values using mean. Use pandas' `fillna`.\n",
    "    * Use sample `DataFrame` to test\n",
    "4. `drop_column` takes pandas dataframe and column name as inputs and drops the given column and returns the rest of the dataframe. Use pandas' `drop`.\n",
    "    * Use sample `DataFrame` to test\n",
    "5. `fix_index` takes pandas dataframe as an input and resets its index and returns it. Use pandas' `reset_index` and drop the old index column.\n",
    "    * Use sample `DataFrame` to test\n",
    "6. `fix_dates` takes pandas dataframe and column name as input. Changes given column's data type into datetime. Use pandas' `to_datetime` function.\n",
    "    * Use sample `DataFrame` to test"
   ]
  },
  {
   "cell_type": "code",
   "execution_count": 9,
   "id": "b97392ec-3e15-45d7-8205-58ae57b60e45",
   "metadata": {},
   "outputs": [],
   "source": [
    "import dataframe_cleaner\n",
    "import pandas as pd"
   ]
  },
  {
   "cell_type": "code",
   "execution_count": 10,
   "id": "600b6188-4737-4184-af58-cfcc50cc906e",
   "metadata": {},
   "outputs": [],
   "source": [
    "df = ..."
   ]
  },
  {
   "cell_type": "code",
   "execution_count": null,
   "id": "5f88d98b-4e2a-4aac-9682-fb2f39d0874c",
   "metadata": {},
   "outputs": [],
   "source": []
  }
 ],
 "metadata": {
  "kernelspec": {
   "display_name": "Python 3 (ipykernel)",
   "language": "python",
   "name": "python3"
  },
  "language_info": {
   "codemirror_mode": {
    "name": "ipython",
    "version": 3
   },
   "file_extension": ".py",
   "mimetype": "text/x-python",
   "name": "python",
   "nbconvert_exporter": "python",
   "pygments_lexer": "ipython3",
   "version": "3.8.13"
  }
 },
 "nbformat": 4,
 "nbformat_minor": 5
}
