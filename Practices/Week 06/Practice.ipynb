{
 "cells": [
  {
   "cell_type": "markdown",
   "id": "3d7a1c77-0fec-400f-9507-e2f10d08abc5",
   "metadata": {
    "tags": []
   },
   "source": [
    "# Scraping `zangia.mn`\n",
    "* You need to import `pandas`, `requests` and `BeautifulSoup`"
   ]
  },
  {
   "cell_type": "code",
   "execution_count": 2,
   "id": "a2882d7b-3416-474c-a99d-0d445c1c58f8",
   "metadata": {},
   "outputs": [],
   "source": [
    "import pandas as pd\n",
    "import requests\n",
    "from bs4 import BeautifulSoup"
   ]
  },
  {
   "cell_type": "markdown",
   "id": "0fca01f5-7995-46b3-8849-953231d6dec1",
   "metadata": {
    "tags": []
   },
   "source": [
    "### Exercise 1: Scrape `zangia.mn` page#1\n",
    "* Make a dataframe using `Мэдээлэл технологи, Харилцаа холбоо` category `https://www.zangia.mn/job/list/pg.1/b.4`.\n",
    "* Get job listings from page 1.\n",
    "  * DataFrame should include columns: `job_title`, `salary`. \n",
    "  * Remove the row if `salary` text contains `Тохиролцоно`. \n",
    "    * *Hint*: Loop over the df and use `in` and `drop` methods.\n",
    "  * Take salary as 5000000 if `salary` text contains `5,000,000 -ааc дээш`\n",
    "  * Import statistics library\n",
    "  * Get the median salary using statistics library if there is a salary range. Example: 2,500,000-3,500,000 should be 3000000. \n",
    "    * Use string replace method to remove comma from numbers.\n",
    "    * *Hint*: Use string split method to get the numbers. \n",
    "  * Make a histogram plot using the `salary`.  \n"
   ]
  },
  {
   "cell_type": "code",
   "execution_count": null,
   "id": "aa899bcc-d456-44af-b385-96aa18fbcaaa",
   "metadata": {},
   "outputs": [],
   "source": [
    "# Your code"
   ]
  },
  {
   "cell_type": "markdown",
   "id": "24e14f14-987b-4c11-9bfb-35c79e4a7215",
   "metadata": {},
   "source": [
    "### Exercise 2: Scrape `zangia.mn` Page#1 - Page#10\n",
    "* Make a dataframe using `Мэдээлэл технологи, Харилцаа холбоо` category `https://www.zangia.mn/job/list/pg.1/b.4`.\n",
    "* Get job listings from page 1-10. *Hint* Loop over the list of pages\n",
    "* Make a dataframe and make a histogram plot using `salary` column."
   ]
  },
  {
   "cell_type": "code",
   "execution_count": null,
   "id": "1b6ff87d-f1c8-456f-97f8-06a2fafacd0d",
   "metadata": {},
   "outputs": [],
   "source": [
    "# Your code"
   ]
  },
  {
   "cell_type": "markdown",
   "id": "928cbf46-a110-43f1-847a-788846efe1f8",
   "metadata": {},
   "source": [
    "### Exercise 3: Scrape `zangia.mn` Page#1 - Page#7\n",
    "* Make a dataframe using `Захиргаа, Хүний нөөц` category `https://www.zangia.mn/job/list/pg.1/b.36`.\n",
    "* Get job listings from page 1-7.\n",
    "* Make a dataframe and make a histogram plot using `salary` column.\n",
    "\n",
    "**WARNING** MAKE SURE YOUR LINKS ARE CORRECT!"
   ]
  },
  {
   "cell_type": "code",
   "execution_count": null,
   "id": "d8f744d3-5e8c-4bbd-900e-e7b31502eadf",
   "metadata": {},
   "outputs": [],
   "source": [
    "# Your code"
   ]
  }
 ],
 "metadata": {
  "kernelspec": {
   "display_name": "Python 3 (ipykernel)",
   "language": "python",
   "name": "python3"
  },
  "language_info": {
   "codemirror_mode": {
    "name": "ipython",
    "version": 3
   },
   "file_extension": ".py",
   "mimetype": "text/x-python",
   "name": "python",
   "nbconvert_exporter": "python",
   "pygments_lexer": "ipython3",
   "version": "3.8.13"
  }
 },
 "nbformat": 4,
 "nbformat_minor": 5
}
