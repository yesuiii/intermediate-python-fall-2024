{
 "cells": [
  {
   "cell_type": "markdown",
   "metadata": {},
   "source": [
    "# PSET4 - Web Scraping"
   ]
  },
  {
   "cell_type": "markdown",
   "metadata": {},
   "source": [
    "This week you will be scraping job postings from one of Mongolia's top job boards: Zangia.mn (formerly BizNetwork). We will collect the following features from the site:\n",
    "\n",
    "- Job title\n",
    "- Job description\n",
    "- Job sector\n",
    "- Salary range\n",
    "\n",
    "If you go to https://www.zangia.mn/job/list you will see all the job listings. There are several pages of listings. The recommended process is:\n",
    "\n",
    "1. Make a list of job post results.\n",
    "2. Scrape the listing URLs from the job list pages (1 through n).\n",
    "3. Use the resulting URL list to scrape the features to a dataframe.\n",
    "\n",
    "The final dataframe should include each of the features above. Not every job post will have each feature, but the resulting data should be a clean dataframe with the data in the right location."
   ]
  },
  {
   "cell_type": "code",
   "execution_count": null,
   "metadata": {},
   "outputs": [],
   "source": [
    "# Your code here"
   ]
  }
 ],
 "metadata": {
  "kernelspec": {
   "display_name": "Python 3 (ipykernel)",
   "language": "python",
   "name": "python3"
  },
  "language_info": {
   "codemirror_mode": {
    "name": "ipython",
    "version": 3
   },
   "file_extension": ".py",
   "mimetype": "text/x-python",
   "name": "python",
   "nbconvert_exporter": "python",
   "pygments_lexer": "ipython3",
   "version": "3.12.3"
  }
 },
 "nbformat": 4,
 "nbformat_minor": 4
}
