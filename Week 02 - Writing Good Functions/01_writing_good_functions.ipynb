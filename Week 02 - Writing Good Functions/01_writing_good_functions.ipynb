{
 "cells": [
  {
   "cell_type": "markdown",
   "metadata": {},
   "source": [
    "# Introduction to functions\n",
    "Remember math functions like ```f(x) = 3x + 2```? Python functions have many similar attributes. In this notebook we will take a look at several features of good functions.\n",
    "\n",
    "This function takes `x` as an argument, multiplies it by 3, then adds 2. The formula can be seen as below in python:\n",
    "\n",
    "```python\n",
    "def f(x):\n",
    "    return x*3+2\n",
    "```"
   ]
  },
  {
   "cell_type": "code",
   "execution_count": 6,
   "metadata": {},
   "outputs": [],
   "source": [
    "def f(x):\n",
    "    # return x*3+2\n",
    "    print(x*3+2)"
   ]
  },
  {
   "cell_type": "code",
   "execution_count": 12,
   "metadata": {},
   "outputs": [
    {
     "name": "stdout",
     "output_type": "stream",
     "text": [
      "11\n"
     ]
    }
   ],
   "source": [
    "res = f(3)"
   ]
  },
  {
   "cell_type": "code",
   "execution_count": 11,
   "metadata": {},
   "outputs": [],
   "source": [
    "res"
   ]
  },
  {
   "cell_type": "code",
   "execution_count": 19,
   "metadata": {},
   "outputs": [],
   "source": [
    "def merge_name(first, last):\n",
    "    full_name = str(first) + \" \" + str(last)\n",
    "    return full_name"
   ]
  },
  {
   "cell_type": "code",
   "execution_count": 20,
   "metadata": {},
   "outputs": [],
   "source": [
    "full_name = merge_name(\"Amarbayan\", \"Altangerel\")"
   ]
  },
  {
   "cell_type": "code",
   "execution_count": 21,
   "metadata": {},
   "outputs": [
    {
     "name": "stdout",
     "output_type": "stream",
     "text": [
      "Amarbayan Altangerel\n"
     ]
    }
   ],
   "source": [
    "print(full_name)"
   ]
  },
  {
   "cell_type": "code",
   "execution_count": 22,
   "metadata": {},
   "outputs": [
    {
     "data": {
      "text/plain": [
       "'Amarbayan Altangerel'"
      ]
     },
     "execution_count": 22,
     "metadata": {},
     "output_type": "execute_result"
    }
   ],
   "source": [
    "merge_name(\"Amarbayan\", \"Altangerel\")"
   ]
  },
  {
   "cell_type": "code",
   "execution_count": 23,
   "metadata": {},
   "outputs": [
    {
     "data": {
      "text/plain": [
       "'Amarbayan Altangerel'"
      ]
     },
     "execution_count": 23,
     "metadata": {},
     "output_type": "execute_result"
    }
   ],
   "source": [
    "full_name"
   ]
  },
  {
   "cell_type": "code",
   "execution_count": 24,
   "metadata": {},
   "outputs": [],
   "source": [
    "import matplotlib.pyplot as plt"
   ]
  },
  {
   "cell_type": "code",
   "execution_count": 25,
   "metadata": {},
   "outputs": [],
   "source": [
    "r = [1, 2, 3, 4, 5]\n",
    "z = [2, 4, 6, 8, 10]"
   ]
  },
  {
   "cell_type": "code",
   "execution_count": 26,
   "metadata": {},
   "outputs": [],
   "source": [
    "def make_plot(x, y):\n",
    "    fig = plt.scatter(x, y)\n",
    "    return fig"
   ]
  },
  {
   "cell_type": "code",
   "execution_count": 27,
   "metadata": {},
   "outputs": [
    {
     "data": {
      "text/plain": [
       "<matplotlib.collections.PathCollection at 0x1220172c0>"
      ]
     },
     "execution_count": 27,
     "metadata": {},
     "output_type": "execute_result"
    },
    {
     "data": {
      "image/png": "[encoded data removed]",
      "text/plain": [
       "<Figure size 640x480 with 1 Axes>"
      ]
     },
     "metadata": {},
     "output_type": "display_data"
    }
   ],
   "source": [
    "make_plot(r, z)"
   ]
  },
  {
   "cell_type": "markdown",
   "metadata": {},
   "source": [
    "## Checklist to create a good function\n",
    "Making good functions can be surprisingly difficult. Here is a checklist we can follow to ensure that our functions are as good as possible. \n",
    "\n",
    "- [ ] Naming\n",
    "- [ ] Single purpose\n",
    "- [ ] Documenting\n",
    "- [ ] Clear and concise\n",
    "- [ ] Return value"
   ]
  },
  {
   "cell_type": "markdown",
   "metadata": {
    "tags": []
   },
   "source": [
    "## Naming\n"
   ]
  },
  {
   "cell_type": "markdown",
   "metadata": {},
   "source": [
    "Naming the functions and variables can be quite difficult sometimes. Names should clearly indicate the purpose of the function. Most of the developers do use abbrevations such as save_cat, temp_db_query, exp_func, my_func, and his_func. You should use full words most of the time and try not to use more than 3 words. Keep it short."
   ]
  },
  {
   "cell_type": "markdown",
   "metadata": {},
   "source": [
    "> There are only two hard things in Computer Science: cache invalidation and **naming** things. -- Phil Karlton"
   ]
  },
  {
   "cell_type": "markdown",
   "metadata": {},
   "source": [
    "#### Bad function naming examples:\n",
    "```python\n",
    "def get_cat(df):\n",
    "\n",
    "def query_google_cloud_db(a, sql):\n",
    "\n",
    "def my_exp_func(df):\n",
    "```"
   ]
  },
  {
   "cell_type": "markdown",
   "metadata": {},
   "source": [
    "#### Good function naming examples:\n",
    "```python\n",
    "def save_category(df):\n",
    "\n",
    "def query_gcloud(is_nullable, sql):\n",
    "    \n",
    "def experiment(df):\n",
    "```"
   ]
  },
  {
   "cell_type": "markdown",
   "metadata": {},
   "source": [
    "## Single purpose\n",
    "\n",
    "A function should always be used for single purpose. This is because our code can often be very complex. By creating single purpose functions we can build modular code that can \"abstract away\" complexity."
   ]
  },
  {
   "cell_type": "markdown",
   "metadata": {},
   "source": [
    "> Anyone can write program that computer can read but only good developer can write program that a human can read."
   ]
  },
  {
   "cell_type": "markdown",
   "metadata": {},
   "source": [
    "> The single-responsibility principle (SRP) is a computer-programming principle that states that every module, class, or function in a computer program should have responsibility over a single part of that program's functionality, which it should encapsulate. [Wikipedia](https://en.wikipedia.org/wiki/Single-responsibility_principle#:~:text=The%20single%2Dresponsibility%20principle%20(SRP,functionality%2C%20which%20it%20should%20encapsulate.)"
   ]
  },
  {
   "cell_type": "markdown",
   "metadata": {},
   "source": [
    "By creating a function that has only one function, you minimize what needs to be edited if there needs to be a change. "
   ]
  },
  {
   "cell_type": "markdown",
   "metadata": {},
   "source": [
    "```python\n",
    "def calculate_print_stats(list_of_numbers):\n",
    "    sum = sum(list_of_numbers) \n",
    "    mean = statistics.mean(list_of_numbers) \n",
    "    median = statistics.median(list_of_numbers) \n",
    "    mode = statistics.mode(list_of_numbers) \n",
    "    print('-----------------Stats-----------------') \n",
    "    print('SUM: {}'.format(sum) \n",
    "    print('MEAN: {}'.format(mean)\n",
    "    print('MEDIAN: {}'.format(median) \n",
    "    print('MODE: {}'.format(mode)\n",
    "```"
   ]
  },
  {
   "cell_type": "markdown",
   "metadata": {},
   "source": [
    "In the example above, the function does one whole thing which is giving statistics of a list of numbers. What are a few challenges that could come up from writing functions this way?"
   ]
  },
  {
   "cell_type": "code",
   "execution_count": 28,
   "metadata": {},
   "outputs": [],
   "source": [
    "import statistics\n",
    "import numpy as np"
   ]
  },
  {
   "cell_type": "code",
   "execution_count": 29,
   "metadata": {},
   "outputs": [],
   "source": [
    "def make_stats(list_of_numbers):\n",
    "    sum_list = np.sum(list_of_numbers)\n",
    "    mean = statistics.mean(list_of_numbers) \n",
    "    median = statistics.median(list_of_numbers) \n",
    "    mode = statistics.mode(list_of_numbers) \n",
    "    return sum_list, mean, median, mode"
   ]
  },
  {
   "cell_type": "code",
   "execution_count": 30,
   "metadata": {},
   "outputs": [],
   "source": [
    "sum_list, mean, median, mode = make_stats([1,2,3,4,5])"
   ]
  },
  {
   "cell_type": "code",
   "execution_count": 31,
   "metadata": {},
   "outputs": [
    {
     "data": {
      "text/plain": [
       "(15, 3, 3, 1)"
      ]
     },
     "execution_count": 31,
     "metadata": {},
     "output_type": "execute_result"
    }
   ],
   "source": [
    "make_stats([1,2,3,4,5])"
   ]
  },
  {
   "cell_type": "markdown",
   "metadata": {
    "tags": []
   },
   "source": [
    "## Documenting\n",
    "Docstrings will help out your fellow developers and probably even your future self! There are some guidelines to follow when creating docstrings:\n",
    "\n",
    "* Use proper grammar and full sentences.\n",
    "* The first sentence should fully describe what the function does.\n",
    "* Put examples of how to use the function directly in the docstring."
   ]
  },
  {
   "cell_type": "markdown",
   "metadata": {},
   "source": [
    "Docstrings generally follow this format, but they do not need to include all of these elements.\n",
    "\n",
    "```python\n",
    "def function_name(arguments):\n",
    "    \"\"\"\n",
    "    Description of what the function does.\n",
    "    \n",
    "    Description of the arguments, if any.\n",
    "    \n",
    "    Description of the return value(s), if any.\n",
    "    \n",
    "    Description of the errors raised, if any.\n",
    "    \n",
    "    Optional extra notes/examples of usage.\n",
    "    \"\"\"\n",
    "```"
   ]
  },
  {
   "cell_type": "code",
   "execution_count": 32,
   "metadata": {},
   "outputs": [],
   "source": [
    "def function_name(arguments):\n",
    "    \"\"\"\n",
    "    Description of what the function does.\n",
    "    \n",
    "    Description of the arguments, if any.\n",
    "    \n",
    "    Description of the return value(s), if any.\n",
    "    \n",
    "    Description of the errors raised, if any.\n",
    "    \n",
    "    Optional extra notes/examples of usage.\n",
    "    \"\"\""
   ]
  },
  {
   "cell_type": "code",
   "execution_count": 34,
   "metadata": {},
   "outputs": [
    {
     "data": {
      "text/plain": [
       "\u001b[0;31mSignature:\u001b[0m \u001b[0mfunction_name\u001b[0m\u001b[0;34m(\u001b[0m\u001b[0marguments\u001b[0m\u001b[0;34m)\u001b[0m\u001b[0;34m\u001b[0m\u001b[0;34m\u001b[0m\u001b[0m\n",
       "\u001b[0;31mDocstring:\u001b[0m\n",
       "Description of what the function does.\n",
       "\n",
       "Description of the arguments, if any.\n",
       "\n",
       "Description of the return value(s), if any.\n",
       "\n",
       "Description of the errors raised, if any.\n",
       "\n",
       "Optional extra notes/examples of usage.\n",
       "\u001b[0;31mFile:\u001b[0m      /var/folders/7p/ncgl3njd46l8cg9k7s7_hs2m0000gn/T/ipykernel_8866/3036523932.py\n",
       "\u001b[0;31mType:\u001b[0m      function"
      ]
     },
     "metadata": {},
     "output_type": "display_data"
    }
   ],
   "source": [
    "function_name?"
   ]
  },
  {
   "cell_type": "code",
   "execution_count": 35,
   "metadata": {},
   "outputs": [
    {
     "data": {
      "text/plain": [
       "\u001b[0;31mSignature:\u001b[0m \u001b[0mstatistics\u001b[0m\u001b[0;34m.\u001b[0m\u001b[0mmean\u001b[0m\u001b[0;34m(\u001b[0m\u001b[0mdata\u001b[0m\u001b[0;34m)\u001b[0m\u001b[0;34m\u001b[0m\u001b[0;34m\u001b[0m\u001b[0m\n",
       "\u001b[0;31mDocstring:\u001b[0m\n",
       "Return the sample arithmetic mean of data.\n",
       "\n",
       ">>> mean([1, 2, 3, 4, 4])\n",
       "2.8\n",
       "\n",
       ">>> from fractions import Fraction as F\n",
       ">>> mean([F(3, 7), F(1, 21), F(5, 3), F(1, 3)])\n",
       "Fraction(13, 21)\n",
       "\n",
       ">>> from decimal import Decimal as D\n",
       ">>> mean([D(\"0.5\"), D(\"0.75\"), D(\"0.625\"), D(\"0.375\")])\n",
       "Decimal('0.5625')\n",
       "\n",
       "If ``data`` is empty, StatisticsError will be raised.\n",
       "\u001b[0;31mFile:\u001b[0m      ~/Library/jupyterlab-desktop/jlab_server/lib/python3.12/statistics.py\n",
       "\u001b[0;31mType:\u001b[0m      function"
      ]
     },
     "metadata": {},
     "output_type": "display_data"
    }
   ],
   "source": [
    "statistics.mean?"
   ]
  },
  {
   "cell_type": "code",
   "execution_count": 36,
   "metadata": {
    "tags": []
   },
   "outputs": [
    {
     "data": {
      "text/plain": [
       "\u001b[0;31mSignature:\u001b[0m      \n",
       "\u001b[0mnp\u001b[0m\u001b[0;34m.\u001b[0m\u001b[0mmean\u001b[0m\u001b[0;34m(\u001b[0m\u001b[0;34m\u001b[0m\n",
       "\u001b[0;34m\u001b[0m    \u001b[0ma\u001b[0m\u001b[0;34m,\u001b[0m\u001b[0;34m\u001b[0m\n",
       "\u001b[0;34m\u001b[0m    \u001b[0maxis\u001b[0m\u001b[0;34m=\u001b[0m\u001b[0;32mNone\u001b[0m\u001b[0;34m,\u001b[0m\u001b[0;34m\u001b[0m\n",
       "\u001b[0;34m\u001b[0m    \u001b[0mdtype\u001b[0m\u001b[0;34m=\u001b[0m\u001b[0;32mNone\u001b[0m\u001b[0;34m,\u001b[0m\u001b[0;34m\u001b[0m\n",
       "\u001b[0;34m\u001b[0m    \u001b[0mout\u001b[0m\u001b[0;34m=\u001b[0m\u001b[0;32mNone\u001b[0m\u001b[0;34m,\u001b[0m\u001b[0;34m\u001b[0m\n",
       "\u001b[0;34m\u001b[0m    \u001b[0mkeepdims\u001b[0m\u001b[0;34m=\u001b[0m\u001b[0;34m<\u001b[0m\u001b[0mno\u001b[0m \u001b[0mvalue\u001b[0m\u001b[0;34m>\u001b[0m\u001b[0;34m,\u001b[0m\u001b[0;34m\u001b[0m\n",
       "\u001b[0;34m\u001b[0m    \u001b[0;34m*\u001b[0m\u001b[0;34m,\u001b[0m\u001b[0;34m\u001b[0m\n",
       "\u001b[0;34m\u001b[0m    \u001b[0mwhere\u001b[0m\u001b[0;34m=\u001b[0m\u001b[0;34m<\u001b[0m\u001b[0mno\u001b[0m \u001b[0mvalue\u001b[0m\u001b[0;34m>\u001b[0m\u001b[0;34m,\u001b[0m\u001b[0;34m\u001b[0m\n",
       "\u001b[0;34m\u001b[0m\u001b[0;34m)\u001b[0m\u001b[0;34m\u001b[0m\u001b[0;34m\u001b[0m\u001b[0m\n",
       "\u001b[0;31mCall signature:\u001b[0m  \u001b[0mnp\u001b[0m\u001b[0;34m.\u001b[0m\u001b[0mmean\u001b[0m\u001b[0;34m(\u001b[0m\u001b[0;34m*\u001b[0m\u001b[0margs\u001b[0m\u001b[0;34m,\u001b[0m \u001b[0;34m**\u001b[0m\u001b[0mkwargs\u001b[0m\u001b[0;34m)\u001b[0m\u001b[0;34m\u001b[0m\u001b[0;34m\u001b[0m\u001b[0m\n",
       "\u001b[0;31mType:\u001b[0m            _ArrayFunctionDispatcher\n",
       "\u001b[0;31mString form:\u001b[0m     <function mean at 0x110df9620>\n",
       "\u001b[0;31mFile:\u001b[0m            ~/Library/jupyterlab-desktop/jlab_server/lib/python3.12/site-packages/numpy/core/fromnumeric.py\n",
       "\u001b[0;31mDocstring:\u001b[0m      \n",
       "Compute the arithmetic mean along the specified axis.\n",
       "\n",
       "Returns the average of the array elements.  The average is taken over\n",
       "the flattened array by default, otherwise over the specified axis.\n",
       "`float64` intermediate and return values are used for integer inputs.\n",
       "\n",
       "Parameters\n",
       "----------\n",
       "a : array_like\n",
       "    Array containing numbers whose mean is desired. If `a` is not an\n",
       "    array, a conversion is attempted.\n",
       "axis : None or int or tuple of ints, optional\n",
       "    Axis or axes along which the means are computed. The default is to\n",
       "    compute the mean of the flattened array.\n",
       "\n",
       "    .. versionadded:: 1.7.0\n",
       "\n",
       "    If this is a tuple of ints, a mean is performed over multiple axes,\n",
       "    instead of a single axis or all the axes as before.\n",
       "dtype : data-type, optional\n",
       "    Type to use in computing the mean.  For integer inputs, the default\n",
       "    is `float64`; for floating point inputs, it is the same as the\n",
       "    input dtype.\n",
       "out : ndarray, optional\n",
       "    Alternate output array in which to place the result.  The default\n",
       "    is ``None``; if provided, it must have the same shape as the\n",
       "    expected output, but the type will be cast if necessary.\n",
       "    See :ref:`ufuncs-output-type` for more details.\n",
       "\n",
       "keepdims : bool, optional\n",
       "    If this is set to True, the axes which are reduced are left\n",
       "    in the result as dimensions with size one. With this option,\n",
       "    the result will broadcast correctly against the input array.\n",
       "\n",
       "    If the default value is passed, then `keepdims` will not be\n",
       "    passed through to the `mean` method of sub-classes of\n",
       "    `ndarray`, however any non-default value will be.  If the\n",
       "    sub-class' method does not implement `keepdims` any\n",
       "    exceptions will be raised.\n",
       "\n",
       "where : array_like of bool, optional\n",
       "    Elements to include in the mean. See `~numpy.ufunc.reduce` for details.\n",
       "\n",
       "    .. versionadded:: 1.20.0\n",
       "\n",
       "Returns\n",
       "-------\n",
       "m : ndarray, see dtype parameter above\n",
       "    If `out=None`, returns a new array containing the mean values,\n",
       "    otherwise a reference to the output array is returned.\n",
       "\n",
       "See Also\n",
       "--------\n",
       "average : Weighted average\n",
       "std, var, nanmean, nanstd, nanvar\n",
       "\n",
       "Notes\n",
       "-----\n",
       "The arithmetic mean is the sum of the elements along the axis divided\n",
       "by the number of elements.\n",
       "\n",
       "Note that for floating-point input, the mean is computed using the\n",
       "same precision the input has.  Depending on the input data, this can\n",
       "cause the results to be inaccurate, especially for `float32` (see\n",
       "example below).  Specifying a higher-precision accumulator using the\n",
       "`dtype` keyword can alleviate this issue.\n",
       "\n",
       "By default, `float16` results are computed using `float32` intermediates\n",
       "for extra precision.\n",
       "\n",
       "Examples\n",
       "--------\n",
       ">>> a = np.array([[1, 2], [3, 4]])\n",
       ">>> np.mean(a)\n",
       "2.5\n",
       ">>> np.mean(a, axis=0)\n",
       "array([2., 3.])\n",
       ">>> np.mean(a, axis=1)\n",
       "array([1.5, 3.5])\n",
       "\n",
       "In single precision, `mean` can be inaccurate:\n",
       "\n",
       ">>> a = np.zeros((2, 512*512), dtype=np.float32)\n",
       ">>> a[0, :] = 1.0\n",
       ">>> a[1, :] = 0.1\n",
       ">>> np.mean(a)\n",
       "0.54999924\n",
       "\n",
       "Computing the mean in float64 is more accurate:\n",
       "\n",
       ">>> np.mean(a, dtype=np.float64)\n",
       "0.55000000074505806 # may vary\n",
       "\n",
       "Specifying a where argument:\n",
       "\n",
       ">>> a = np.array([[5, 9, 13], [14, 10, 12], [11, 15, 19]])\n",
       ">>> np.mean(a)\n",
       "12.0\n",
       ">>> np.mean(a, where=[[True], [False], [False]])\n",
       "9.0\n",
       "\u001b[0;31mClass docstring:\u001b[0m\n",
       "Class to wrap functions with checks for __array_function__ overrides.\n",
       "\n",
       "All arguments are required, and can only be passed by position.\n",
       "\n",
       "Parameters\n",
       "----------\n",
       "dispatcher : function or None\n",
       "    The dispatcher function that returns a single sequence-like object\n",
       "    of all arguments relevant.  It must have the same signature (except\n",
       "    the default values) as the actual implementation.\n",
       "    If ``None``, this is a ``like=`` dispatcher and the\n",
       "    ``_ArrayFunctionDispatcher`` must be called with ``like`` as the\n",
       "    first (additional and positional) argument.\n",
       "implementation : function\n",
       "    Function that implements the operation on NumPy arrays without\n",
       "    overrides.  Arguments passed calling the ``_ArrayFunctionDispatcher``\n",
       "    will be forwarded to this (and the ``dispatcher``) as if using\n",
       "    ``*args, **kwargs``.\n",
       "\n",
       "Attributes\n",
       "----------\n",
       "_implementation : function\n",
       "    The original implementation passed in."
      ]
     },
     "metadata": {},
     "output_type": "display_data"
    }
   ],
   "source": [
    "# Example of np.mean docstring.\n",
    "np.mean?"
   ]
  },
  {
   "cell_type": "markdown",
   "metadata": {},
   "source": [
    "Here is another simple example of a good docstring. \n",
    "```python\n",
    "def add_binary(a, b):\n",
    "    '''\n",
    "    Returns the sum of two decimal numbers in binary digits.\n",
    "\n",
    "            Parameters:\n",
    "                    a (int): A decimal integer\n",
    "                    b (int): Another decimal integer\n",
    "\n",
    "            Returns:\n",
    "                    binary_sum (str): Binary string of the sum of a and b\n",
    "    '''\n",
    "    binary_sum = bin(a+b)[2:]\n",
    "    return binary_sum\n",
    "```"
   ]
  },
  {
   "cell_type": "markdown",
   "metadata": {},
   "source": [
    "It is always better to write Docstrings before writing your actual function. Writing a Docstring is a great way to clarify your intention for the function."
   ]
  },
  {
   "cell_type": "markdown",
   "metadata": {},
   "source": [
    "**You can use the code below to check your Docstring**\n",
    "```python\n",
    "print(add_binary.__doc__)\n",
    "```\n",
    "Returns the sum of two decimal numbers in binary digits.\n",
    "\n",
    "            Parameters:\n",
    "                    a (int): A decimal integer\n",
    "                    b (int): Another decimal integer\n",
    "\n",
    "            Returns:\n",
    "                    binary_sum (str): Binary string of the sum of a and b"
   ]
  },
  {
   "cell_type": "markdown",
   "metadata": {},
   "source": [
    "## Clear and Concise\n",
    "A functions length determines how easy it is to understand and to maintain. Ask yourself how much code you and your fellow developers can keep in your head at a time. If you exceed this number, you are likely going to fail in terms of readability. \n",
    "\n",
    "Sometimes shorter is not better. It can be very easy to cram a bunch of code into a small space, but this can sacrifice readability.\n",
    "\n",
    "One way to avoid overly complex code is to have one task be on one line.\n",
    "\n",
    "**Bad example**\n",
    "```python\n",
    "print('foo'); print('bar')\n",
    "\n",
    "if x == 1: print('foo')\n",
    "\n",
    "if <complex comparison> and <other complex comparison>:\n",
    "    # do something\n",
    "```\n",
    "**Good Example**\n",
    "```python\n",
    "print('foo')\n",
    "print('bar')\n",
    "\n",
    "if x == 1:\n",
    "    print('foo')\n",
    "\n",
    "cond1 = <complex comparison>\n",
    "cond2 = <other complex comparison>\n",
    "if cond1 and cond2:\n",
    "    # do something\n",
    "```"
   ]
  },
  {
   "cell_type": "code",
   "execution_count": 37,
   "metadata": {},
   "outputs": [
    {
     "name": "stdout",
     "output_type": "stream",
     "text": [
      "tada\n"
     ]
    }
   ],
   "source": [
    "x = 3\n",
    "y = 2\n",
    "z = 3\n",
    "\n",
    "cond1 = x > y\n",
    "cond2 = x == z\n",
    "if cond1 and cond2:\n",
    "    print('tada')"
   ]
  },
  {
   "cell_type": "code",
   "execution_count": 38,
   "metadata": {},
   "outputs": [
    {
     "name": "stdout",
     "output_type": "stream",
     "text": [
      "tada\n"
     ]
    }
   ],
   "source": [
    "if (x > y) and (x == z):\n",
    "    print('tada')"
   ]
  },
  {
   "cell_type": "markdown",
   "metadata": {},
   "source": [
    "## Return value\n",
    "Often programmers use `print()` statements to view the result of their calculations. When writing functions though this is not particularly useful."
   ]
  },
  {
   "cell_type": "code",
   "execution_count": 39,
   "metadata": {},
   "outputs": [],
   "source": [
    "def sum(x, y):\n",
    "    print(x+y)"
   ]
  },
  {
   "cell_type": "code",
   "execution_count": 40,
   "metadata": {},
   "outputs": [
    {
     "name": "stdout",
     "output_type": "stream",
     "text": [
      "5\n"
     ]
    }
   ],
   "source": [
    "summy = sum(2,3)"
   ]
  },
  {
   "cell_type": "code",
   "execution_count": 41,
   "metadata": {},
   "outputs": [],
   "source": [
    "summy"
   ]
  },
  {
   "cell_type": "code",
   "execution_count": 42,
   "metadata": {},
   "outputs": [
    {
     "ename": "TypeError",
     "evalue": "unsupported operand type(s) for ** or pow(): 'NoneType' and 'int'",
     "output_type": "error",
     "traceback": [
      "\u001b[0;31m---------------------------------------------------------------------------\u001b[0m",
      "\u001b[0;31mTypeError\u001b[0m                                 Traceback (most recent call last)",
      "Cell \u001b[0;32mIn[42], line 1\u001b[0m\n\u001b[0;32m----> 1\u001b[0m \u001b[43msummy\u001b[49m\u001b[38;5;241;43m*\u001b[39;49m\u001b[38;5;241;43m*\u001b[39;49m\u001b[38;5;241;43m2\u001b[39;49m\n",
      "\u001b[0;31mTypeError\u001b[0m: unsupported operand type(s) for ** or pow(): 'NoneType' and 'int'"
     ]
    }
   ],
   "source": [
    "summy**2"
   ]
  },
  {
   "cell_type": "markdown",
   "metadata": {},
   "source": [
    "By using **return** your function will output the object(s) you would like. You can then use the output to chain code together. The example code below shows that you can use the result of the **sum** function to use the sqrt function. "
   ]
  },
  {
   "cell_type": "code",
   "execution_count": 43,
   "metadata": {},
   "outputs": [],
   "source": [
    "def sum(x, y):\n",
    "    return x+y\n",
    "\n",
    "def sqr(x):\n",
    "    return x**2"
   ]
  },
  {
   "cell_type": "code",
   "execution_count": 44,
   "metadata": {},
   "outputs": [],
   "source": [
    "sum_value = sum(4,5)"
   ]
  },
  {
   "cell_type": "code",
   "execution_count": 45,
   "metadata": {},
   "outputs": [
    {
     "data": {
      "text/plain": [
       "81"
      ]
     },
     "execution_count": 45,
     "metadata": {},
     "output_type": "execute_result"
    }
   ],
   "source": [
    "sqr(sum_value)"
   ]
  },
  {
   "cell_type": "markdown",
   "metadata": {},
   "source": [
    "It is a good idea to have as few **return** statements as possible. Having multiple return statements (also thought of as multiple exit points) can make the code more difficult to maintain.\n",
    "\n",
    "**Bad example**\n",
    "```python\n",
    "def complex_function(a, b, c):\n",
    "    if not a:\n",
    "        return None\n",
    "    if not b:\n",
    "        return None\n",
    "    # Some complex code trying to compute x from a, b and c\n",
    "    if y:\n",
    "        return x\n",
    "    if not y:  \n",
    "        # Some Plan-B computation of x\n",
    "        return x\n",
    "```\n",
    "\n",
    "**Good example**\n",
    "```python\n",
    "def complex_function(a, b, c):\n",
    "    if not a or not b or not c:\n",
    "        raise ValueError(\"The args can't be None\") \n",
    "\n",
    "    # Raising an exception is better\n",
    "    # Some complex code trying to compute x from a, b and c\n",
    "    # Resist temptation to return x if succeeded\n",
    "    if not x:\n",
    "    # Some Plan-B computation of x\n",
    "\n",
    "    return x # One single exit point for the returned value x will help when maintaining the code.\n",
    "```"
   ]
  },
  {
   "cell_type": "code",
   "execution_count": 46,
   "metadata": {},
   "outputs": [
    {
     "name": "stdout",
     "output_type": "stream",
     "text": [
      "The Zen of Python, by Tim Peters\n",
      "\n",
      "Beautiful is better than ugly.\n",
      "Explicit is better than implicit.\n",
      "Simple is better than complex.\n",
      "Complex is better than complicated.\n",
      "Flat is better than nested.\n",
      "Sparse is better than dense.\n",
      "Readability counts.\n",
      "Special cases aren't special enough to break the rules.\n",
      "Although practicality beats purity.\n",
      "Errors should never pass silently.\n",
      "Unless explicitly silenced.\n",
      "In the face of ambiguity, refuse the temptation to guess.\n",
      "There should be one-- and preferably only one --obvious way to do it.\n",
      "Although that way may not be obvious at first unless you're Dutch.\n",
      "Now is better than never.\n",
      "Although never is often better than *right* now.\n",
      "If the implementation is hard to explain, it's a bad idea.\n",
      "If the implementation is easy to explain, it may be a good idea.\n",
      "Namespaces are one honking great idea -- let's do more of those!\n"
     ]
    }
   ],
   "source": [
    "import this"
   ]
  },
  {
   "cell_type": "markdown",
   "metadata": {},
   "source": [
    "## It is a good idea to read some of the python community's code style principles.\n",
    "* [PEP 20](https://www.python.org/dev/peps/pep-0020/), the guiding principles for Python’s design. \n",
    "The Zen of Python, by Tim Peters. \n",
    "Run the code below in cell\n",
    "```python \n",
    "import this\n",
    "```\n",
    "\n",
    "> Beautiful is better than ugly. <br>\n",
    "Explicit is better than implicit. <br>\n",
    "Simple is better than complex.<br>\n",
    "Complex is better than complicated.<br>\n",
    "Flat is better than nested.<br>\n",
    "Sparse is better than dense.<br>\n",
    "Readability counts.<br>\n",
    "Special cases aren't special enough to break the rules.<br>\n",
    "Although practicality beats purity.<br>\n",
    "Errors should never pass silently.<br>\n",
    "Unless explicitly silenced.<br>\n",
    "In the face of ambiguity, refuse the temptation to guess.<br>\n",
    "There should be one-- and preferably only one --obvious way to do it.<br>\n",
    "Although that way may not be obvious at first unless you're Dutch.<br>\n",
    "Now is better than never.<br>\n",
    "Although never is often better than *right* now.<br>\n",
    "If the implementation is hard to explain, it's a bad idea.<br>\n",
    "If the implementation is easy to explain, it may be a good idea.<br>\n",
    "Namespaces are one honking great idea -- let's do more of those!<br>\n",
    "\n",
    "* [PEP 8](https://www.python.org/dev/peps/pep-0008/) is the de facto code style guide for Python. Most python developers try to follow the PEP 8 code style and use some of the tools built-in for either text-editors or command-line editors. You can find PEP 8 formatter for almost every code-editors such as Microsoft's free code-editor Visual Studio Code and its [PEP 8 formatter extension](https://marketplace.visualstudio.com/items?itemName=himanoa.Python-autopep8). "
   ]
  }
 ],
 "metadata": {
  "kernelspec": {
   "display_name": "Python 3 (ipykernel)",
   "language": "python",
   "name": "python3"
  },
  "language_info": {
   "codemirror_mode": {
    "name": "ipython",
    "version": 3
   },
   "file_extension": ".py",
   "mimetype": "text/x-python",
   "name": "python",
   "nbconvert_exporter": "python",
   "pygments_lexer": "ipython3",
   "version": "3.12.3"
  }
 },
 "nbformat": 4,
 "nbformat_minor": 4
}
