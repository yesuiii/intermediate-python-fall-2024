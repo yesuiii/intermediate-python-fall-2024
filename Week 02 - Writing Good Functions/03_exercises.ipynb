{
 "cells": [
  {
   "cell_type": "markdown",
   "metadata": {},
   "source": [
    "# Here's some exercises to do to improve your function writing in python\n",
    "Please refer to the [writing good functions notebook](writing_good_functions.ipynb) in order to get some guidlines.\n",
    "\n",
    "Below are the checklists to write a good function:\n",
    "- [x] Naming\n",
    "- [x] Single purpose\n",
    "- [x] Documenting\n",
    "- [x] Clear and concise\n",
    "- [x] Return value"
   ]
  },
  {
   "cell_type": "markdown",
   "metadata": {},
   "source": [
    "**Exercise 1**: Write a Python function to reverse a string. Write a simple Docstring that clearly shows the purpose of the function.\n",
    "\n",
    "Sample String : \"123456abcde\" <br>\n",
    "Expected Output : \"edcba654321\""
   ]
  },
  {
   "cell_type": "code",
   "execution_count": 1,
   "metadata": {},
   "outputs": [],
   "source": [
    "### Exercise1: You may use numpy library\n",
    "def reverse_string(string):\n",
    "    \"\"\" Returns a string in reversed order \"\"\"\n",
    "    return str(string)[::-1]"
   ]
  },
  {
   "cell_type": "code",
   "execution_count": 4,
   "metadata": {},
   "outputs": [
    {
     "data": {
      "text/plain": [
       "'4321'"
      ]
     },
     "execution_count": 4,
     "metadata": {},
     "output_type": "execute_result"
    }
   ],
   "source": [
    "reverse_string(\"1234\")"
   ]
  },
  {
   "cell_type": "markdown",
   "metadata": {},
   "source": [
    "**Exercise 2**: Write a Python function to print the even numbers from a given list. Write a simple Docstring that clearly shows the purpose of the function.\n",
    "\n",
    "Sample List : [1, 2, 3, 4, 5, 6, 7, 8, 9] <br>\n",
    "Expected Result : [2, 4, 6, 8]"
   ]
  },
  {
   "cell_type": "code",
   "execution_count": 5,
   "metadata": {},
   "outputs": [
    {
     "data": {
      "text/plain": [
       "[2, 4, 6, 8]"
      ]
     },
     "execution_count": 5,
     "metadata": {},
     "output_type": "execute_result"
    }
   ],
   "source": [
    "### Exercise 2: You may use numpy library\n",
    "def get_evens(numbers):\n",
    "    \"\"\" Returns even numbers from a given list \"\"\"\n",
    "    result = []\n",
    "    for num in numbers:\n",
    "        if num % 2 == 0:\n",
    "            # result += [num]\n",
    "            result.append(num)\n",
    "    return result\n",
    "    \n",
    "get_evens([1, 2, 3, 4, 5, 6, 7, 8, 9])"
   ]
  },
  {
   "cell_type": "code",
   "execution_count": 6,
   "metadata": {},
   "outputs": [
    {
     "data": {
      "text/plain": [
       "[1, 3, 5, 7, 9]"
      ]
     },
     "execution_count": 6,
     "metadata": {},
     "output_type": "execute_result"
    }
   ],
   "source": [
    "def get_odds(numbers):\n",
    "    \"\"\" Returns odd numbers from a given list \"\"\"\n",
    "    result = []\n",
    "    for num in numbers:\n",
    "        if num % 2 != 0:\n",
    "            # result += [num]\n",
    "            result.append(num)\n",
    "    return result\n",
    "    \n",
    "get_odds([1, 2, 3, 4, 5, 6, 7, 8, 9])"
   ]
  },
  {
   "cell_type": "markdown",
   "metadata": {},
   "source": [
    "**Exercise 3**: Write a Python function to print the max, min, and sum of the given list. Write a simple Docstring that clearly shows the purpose of the function.\n",
    "\n",
    "Sample List: [12, 30, 24, 21, 20 ,17, 28, 19, 31, 22] <br>\n",
    "Expected Output: Max: ..., Min: ..., Sum: ..."
   ]
  },
  {
   "cell_type": "code",
   "execution_count": 27,
   "metadata": {},
   "outputs": [],
   "source": [
    "### Exercise 3: You may use numpy library"
   ]
  },
  {
   "cell_type": "code",
   "execution_count": 7,
   "metadata": {},
   "outputs": [],
   "source": [
    "import numpy as np\n",
    "def get_stats(numbers):\n",
    "    \"\"\" Returns max, min, sum of a given number list \"\"\"\n",
    "    return np.max(numbers), np.min(numbers), np.sum(numbers)"
   ]
  },
  {
   "cell_type": "code",
   "execution_count": 8,
   "metadata": {},
   "outputs": [
    {
     "data": {
      "text/plain": [
       "(31, 12, 224)"
      ]
     },
     "execution_count": 8,
     "metadata": {},
     "output_type": "execute_result"
    }
   ],
   "source": [
    "get_stats([12, 30, 24, 21, 20 ,17, 28, 19, 31, 22])"
   ]
  },
  {
   "cell_type": "markdown",
   "metadata": {},
   "source": [
    "**Exercise 4**: Create a nested function to perform addition in the following way. Write a simple Docstring that clearly shows the purpose of the function.\n",
    "1. Create an outer function that will accept three parameters **a**, **b**, and **c**\n",
    "2. Create an inner function inside an outer function that will calculate the addition of **a** and **b**\n",
    "3. At last, an outer function will add **c** into addition and return it\n",
    "\n",
    "Given parameters: \n",
    "* a = 10\n",
    "* b = 5\n",
    "* c = 3\n",
    "\n",
    "Expected output: 18"
   ]
  },
  {
   "cell_type": "code",
   "execution_count": 9,
   "metadata": {},
   "outputs": [
    {
     "data": {
      "text/plain": [
       "6"
      ]
     },
     "execution_count": 9,
     "metadata": {},
     "output_type": "execute_result"
    }
   ],
   "source": [
    "### Exercise 4: You don't need additional library to perform this\n",
    "def get_nests(a, b, c):\n",
    "    \"\"\" Returns sum of a, b, c \"\"\"\n",
    "    def addition(a, b):\n",
    "        return a + b\n",
    "    return addition(a, b) + c\n",
    "    \n",
    "get_nests(1, 2, 3)"
   ]
  },
  {
   "cell_type": "markdown",
   "metadata": {},
   "source": [
    "**Exercise 5**: Create a function that plots the histogram of the given list, and print out the simple statistics using pandas describe. Write a simple Docstring that clearly shows the purpose of the function.\n",
    "1. Plot the histogram of the given numpy array **statme** using pandas.\n",
    "2. Print the simple statistics of the **statme** array using pandas.\n",
    "3. Return the both statistics and histogram in a single run"
   ]
  },
  {
   "cell_type": "code",
   "execution_count": 13,
   "metadata": {},
   "outputs": [
    {
     "data": {
      "text/plain": [
       "(array([[<Axes: title={'center': '0'}>]], dtype=object),\n",
       "                 0\n",
       " count  200.000000\n",
       " mean     5.075000\n",
       " std      2.621783\n",
       " min      1.000000\n",
       " 25%      3.000000\n",
       " 50%      5.000000\n",
       " 75%      7.000000\n",
       " max      9.000000)"
      ]
     },
     "execution_count": 13,
     "metadata": {},
     "output_type": "execute_result"
    },
    {
     "data": {
      "image/png": "[encoded data removed]",
      "text/plain": [
       "<Figure size 640x480 with 1 Axes>"
      ]
     },
     "metadata": {},
     "output_type": "display_data"
    }
   ],
   "source": [
    "### Exercise 5: You may use numpy and pandas for this exercise\n",
    "statme = np.random.randint(1, 10, 200)\n",
    "def plotter(data):\n",
    "    \"\"\" Returns a histogram and a general statistics of a given array \"\"\"\n",
    "    import pandas as pd\n",
    "    df = pd.DataFrame(data)\n",
    "    \n",
    "    return df.hist(), df.describe()\n",
    "\n",
    "plotter(statme)\n"
   ]
  }
 ],
 "metadata": {
  "kernelspec": {
   "display_name": "Python 3 (ipykernel)",
   "language": "python",
   "name": "python3"
  },
  "language_info": {
   "codemirror_mode": {
    "name": "ipython",
    "version": 3
   },
   "file_extension": ".py",
   "mimetype": "text/x-python",
   "name": "python",
   "nbconvert_exporter": "python",
   "pygments_lexer": "ipython3",
   "version": "3.12.3"
  }
 },
 "nbformat": 4,
 "nbformat_minor": 4
}
