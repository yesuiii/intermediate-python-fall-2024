{
 "cells": [
  {
   "cell_type": "markdown",
   "metadata": {},
   "source": [
    "# Here's some exercises to do to improve your function writing in python\n",
    "Please refer to the [writing good functions notebook](writing_good_functions.ipynb) in order to get some guidlines.\n",
    "\n",
    "Below are the checklists to write a good function:\n",
    "- [x] Naming\n",
    "- [x] Single purpose\n",
    "- [x] Documenting\n",
    "- [x] Clear and concise\n",
    "- [x] Return value"
   ]
  },
  {
   "cell_type": "markdown",
   "metadata": {},
   "source": [
    "**Exercise 1**: Write a Python function to reverse a string. Write a simple Docstring that clearly shows the purpose of the function.\n",
    "\n",
    "Sample String : \"123456abcde\" <br>\n",
    "Expected Output : \"edcba654321\""
   ]
  },
  {
   "cell_type": "code",
   "execution_count": 1,
   "metadata": {},
   "outputs": [],
   "source": [
    "### Exercise1: You may use numpy library\n",
    "def reverse_string(string):\n",
    "    \"\"\" Returns a string in reversed order \"\"\"\n",
    "    return str(string)[::-1]"
   ]
  },
  {
   "cell_type": "code",
   "execution_count": 4,
   "metadata": {},
   "outputs": [
    {
     "data": {
      "text/plain": [
       "'4321'"
      ]
     },
     "execution_count": 4,
     "metadata": {},
     "output_type": "execute_result"
    }
   ],
   "source": [
    "reverse_string(\"1234\")"
   ]
  },
  {
   "cell_type": "markdown",
   "metadata": {},
   "source": [
    "**Exercise 2**: Write a Python function to print the even numbers from a given list. Write a simple Docstring that clearly shows the purpose of the function.\n",
    "\n",
    "Sample List : [1, 2, 3, 4, 5, 6, 7, 8, 9] <br>\n",
    "Expected Result : [2, 4, 6, 8]"
   ]
  },
  {
   "cell_type": "code",
<<<<<<< Updated upstream
   "execution_count": 5,
=======
   "execution_count": 1,
>>>>>>> Stashed changes
   "metadata": {},
   "outputs": [
    {
     "data": {
      "text/plain": [
       "[2, 4, 6, 8]"
      ]
     },
<<<<<<< Updated upstream
     "execution_count": 5,
=======
     "execution_count": 1,
>>>>>>> Stashed changes
     "metadata": {},
     "output_type": "execute_result"
    }
   ],
   "source": [
    "### Exercise 2: You may use numpy library\n",
    "def get_evens(numbers):\n",
    "    \"\"\" Returns even numbers from a given list \"\"\"\n",
    "    result = []\n",
    "    for num in numbers:\n",
    "        if num % 2 == 0:\n",
    "            # result += [num]\n",
    "            result.append(num)\n",
    "    return result\n",
    "    \n",
    "get_evens([1, 2, 3, 4, 5, 6, 7, 8, 9])"
   ]
  },
  {
   "cell_type": "code",
<<<<<<< Updated upstream
   "execution_count": 6,
=======
   "execution_count": 8,
>>>>>>> Stashed changes
   "metadata": {},
   "outputs": [
    {
     "data": {
      "text/plain": [
       "[1, 3, 5, 7, 9]"
      ]
     },
<<<<<<< Updated upstream
     "execution_count": 6,
=======
     "execution_count": 8,
>>>>>>> Stashed changes
     "metadata": {},
     "output_type": "execute_result"
    }
   ],
   "source": [
    "def get_odds(numbers):\n",
    "    \"\"\" Returns odd numbers from a given list \"\"\"\n",
    "    result = []\n",
    "    for num in numbers:\n",
    "        if num % 2 != 0:\n",
    "            # result += [num]\n",
    "            result.append(num)\n",
    "    return result\n",
    "    \n",
    "get_odds([1, 2, 3, 4, 5, 6, 7, 8, 9])"
   ]
  },
  {
   "cell_type": "markdown",
   "metadata": {},
   "source": [
    "**Exercise 3**: Write a Python function to print the max, min, and sum of the given list. Write a simple Docstring that clearly shows the purpose of the function.\n",
    "\n",
    "Sample List: [12, 30, 24, 21, 20 ,17, 28, 19, 31, 22] <br>\n",
    "Expected Output: Max: ..., Min: ..., Sum: ..."
   ]
  },
  {
   "cell_type": "code",
   "execution_count": 27,
   "metadata": {},
   "outputs": [],
   "source": [
    "### Exercise 3: You may use numpy library"
   ]
  },
  {
   "cell_type": "code",
   "execution_count": 7,
   "metadata": {},
   "outputs": [],
   "source": [
    "import numpy as np\n",
    "def get_stats(numbers):\n",
    "    \"\"\" Returns max, min, sum of a given number list \"\"\"\n",
    "    return np.max(numbers), np.min(numbers), np.sum(numbers)"
   ]
  },
  {
   "cell_type": "code",
   "execution_count": 8,
   "metadata": {},
   "outputs": [
    {
     "data": {
      "text/plain": [
       "(31, 12, 224)"
      ]
     },
     "execution_count": 8,
     "metadata": {},
     "output_type": "execute_result"
    }
   ],
   "source": [
    "get_stats([12, 30, 24, 21, 20 ,17, 28, 19, 31, 22])"
   ]
  },
  {
   "cell_type": "markdown",
   "metadata": {},
   "source": [
    "**Exercise 4**: Create a nested function to perform addition in the following way. Write a simple Docstring that clearly shows the purpose of the function.\n",
    "1. Create an outer function that will accept three parameters **a**, **b**, and **c**\n",
    "2. Create an inner function inside an outer function that will calculate the addition of **a** and **b**\n",
    "3. At last, an outer function will add **c** into addition and return it\n",
    "\n",
    "Given parameters: \n",
    "* a = 10\n",
    "* b = 5\n",
    "* c = 3\n",
    "\n",
    "Expected output: 18"
   ]
  },
  {
   "cell_type": "code",
   "execution_count": 9,
   "metadata": {},
   "outputs": [
    {
     "data": {
      "text/plain": [
       "6"
      ]
     },
     "execution_count": 9,
     "metadata": {},
     "output_type": "execute_result"
    }
   ],
   "source": [
    "### Exercise 4: You don't need additional library to perform this\n",
    "def get_nests(a, b, c):\n",
    "    \"\"\" Returns sum of a, b, c \"\"\"\n",
    "    def addition(a, b):\n",
    "        return a + b\n",
    "    return addition(a, b) + c\n",
    "    \n",
    "get_nests(1, 2, 3)"
   ]
  },
  {
   "cell_type": "markdown",
   "metadata": {},
   "source": [
    "**Exercise 5**: Create a function that plots the histogram of the given list, and print out the simple statistics using pandas describe. Write a simple Docstring that clearly shows the purpose of the function.\n",
    "1. Plot the histogram of the given numpy array **statme** using pandas.\n",
    "2. Print the simple statistics of the **statme** array using pandas.\n",
    "3. Return the both statistics and histogram in a single run"
   ]
  },
  {
   "cell_type": "code",
<<<<<<< Updated upstream
   "execution_count": 13,
=======
   "execution_count": 14,
   "metadata": {},
   "outputs": [],
   "source": [
    "import numpy as np\n",
    "import pandas as pd"
   ]
  },
  {
   "cell_type": "code",
   "execution_count": 49,
>>>>>>> Stashed changes
   "metadata": {},
   "outputs": [
    {
     "data": {
      "text/plain": [
       "(array([[<Axes: title={'center': '0'}>]], dtype=object),\n",
       "                 0\n",
       " count  200.000000\n",
       " mean     5.075000\n",
       " std      2.621783\n",
       " min      1.000000\n",
       " 25%      3.000000\n",
       " 50%      5.000000\n",
       " 75%      7.000000\n",
       " max      9.000000)"
      ]
     },
     "execution_count": 13,
     "metadata": {},
     "output_type": "execute_result"
    },
    {
     "data": {
      "image/png": "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",
      "text/plain": [
       "<Figure size 640x480 with 1 Axes>"
      ]
     },
     "metadata": {},
     "output_type": "display_data"
    }
   ],
   "source": [
    "### Exercise 5: You may use numpy and pandas for this exercise\n",
    "statme = np.random.randint(1, 10, 200)\n",
<<<<<<< Updated upstream
    "def plotter(data):\n",
    "    \"\"\" Returns a histogram and a general statistics of a given array \"\"\"\n",
    "    import pandas as pd\n",
    "    df = pd.DataFrame(data)\n",
    "    \n",
    "    return df.hist(), df.describe()\n",
    "\n",
    "plotter(statme)\n"
=======
    "def plotter(statme): \n",
    "    \"\"\"\n",
    "    Plots a histogram for the given numpy array and prints its simple statistics.\n",
    "    \"\"\"\n",
    "    fig = pd.Series(statme)\n",
    "    fig.hist(bins=range(1,11), edgecolor= 'black')\n",
    "    return fig"
>>>>>>> Stashed changes
   ]
  },
  {
   "cell_type": "code",
   "execution_count": 50,
   "metadata": {},
   "outputs": [
    {
     "data": {
      "text/plain": [
       "0      9\n",
       "1      3\n",
       "2      3\n",
       "3      2\n",
       "4      7\n",
       "      ..\n",
       "195    7\n",
       "196    4\n",
       "197    6\n",
       "198    5\n",
       "199    3\n",
       "Length: 200, dtype: int64"
      ]
     },
     "execution_count": 50,
     "metadata": {},
     "output_type": "execute_result"
    },
    {
     "data": {
      "image/png": "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",
      "text/plain": [
       "<Figure size 640x480 with 1 Axes>"
      ]
     },
     "metadata": {},
     "output_type": "display_data"
    }
   ],
   "source": [
    "plotter(statme)"
   ]
  },
  {
   "cell_type": "code",
   "execution_count": 44,
   "metadata": {},
   "outputs": [
    {
     "data": {
      "text/plain": [
       "(array([[<Axes: title={'center': '0'}>]], dtype=object),\n",
       "                 0\n",
       " count  200.000000\n",
       " mean     4.950000\n",
       " std      2.634808\n",
       " min      1.000000\n",
       " 25%      3.000000\n",
       " 50%      5.000000\n",
       " 75%      7.000000\n",
       " max      9.000000)"
      ]
     },
     "execution_count": 44,
     "metadata": {},
     "output_type": "execute_result"
    },
    {
     "data": {
      "image/png": "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",
      "text/plain": [
       "<Figure size 640x480 with 1 Axes>"
      ]
     },
     "metadata": {},
     "output_type": "display_data"
    }
   ],
   "source": [
    "statme = np.random.randint(1, 10, 200)\n",
    "def plotter(data): \n",
    "    df = pd.DataFrame(data)\n",
    "    return df.hist(), df.describe()\n",
    "plotter(statme)"
   ]
  },
  {
   "cell_type": "code",
   "execution_count": null,
   "metadata": {},
   "outputs": [],
   "source": []
  }
 ],
 "metadata": {
  "kernelspec": {
   "display_name": "Python 3 (ipykernel)",
   "language": "python",
   "name": "python3"
  },
  "language_info": {
   "codemirror_mode": {
    "name": "ipython",
    "version": 3
   },
   "file_extension": ".py",
   "mimetype": "text/x-python",
   "name": "python",
   "nbconvert_exporter": "python",
   "pygments_lexer": "ipython3",
   "version": "3.12.3"
  }
 },
 "nbformat": 4,
 "nbformat_minor": 4
}
