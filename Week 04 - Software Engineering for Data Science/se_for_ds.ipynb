{
 "cells": [
  {
   "cell_type": "markdown",
   "metadata": {},
   "source": [
    "# Data science consists of: \n",
    "1. Communication\n",
    "2. Software engineering\n",
    "3. Math, Statistics & Coding\n",
    "\n",
    "<img style=\"\" src=\"images/ds_stuff.png\"/> \n",
    "\n",
    "\n",
    "### There are 3 key concepts in software engineering for Data Science.\n",
    "1. **Modularity**- Modular programming is the action of breaking down a large, unmanageable tasks, into smaller, meaningful, and manageable subtasks or modules. The modules can then stick together and create packages.\n",
    "    * Simplicity - You will have much smaller problems to solve rather than tweaking and tinkering with the entire problem at once.\n",
    "    * Maintanability - Modules are kept separate and bound by logical parts. It is easier for you and your collaborators to work on logical smaller modules rather than working on big chunks of code that has no simple way to be understood.\n",
    "    * Reusability - Functions and objects can be accessed easily. This eliminates the need to duplicate code.\n",
    "2. **Documentation** - Shows how to use your project, reduce confusion for your collaborators, and frustration for the future *you*. Being able to document your own code gives you confidence that you understand it yourself. A sign of well-written code is that it is well documented!\n",
    "3. **Testing** - Save time over manual testing, find and fix more bugs, and run tests whenever you want. You can create a **manual** or **automated** test depending on the scope of your project.\n",
    "    * Manual testing - Exploratory or manual testing is/are the test(s) you do without any plan. Basically you are just exploring your code.\n",
    "    * Automated testing - The test(s) you do with a plan and checklists. A checklist can be anything such as your features and parts that need to be carefully executed."
   ]
  },
  {
   "cell_type": "markdown",
   "metadata": {},
   "source": [
    "### Intro to Packages and Documentation\n",
    "\n",
    "The Python Package Index (PyPI) is a repository of software for the Python programming language.\n",
    "PyPI helps you find and install software developed and shared by the Python community.\n",
    "\n",
    "**pip** is already installed if you are using Python 2 >=2.7.9 or Python 3 >=3.4 downloaded from python.org\n",
    "\n",
    "#### Using **pip** to install numpy directly from the notebook\n",
    "```bash\n",
    "!pip install numpy\n",
    "```\n",
    "#### Reading documentation with help()\n",
    "The built-in function help() invokes the online help system in the interactive interpreter, which uses pydoc to generate its documentation as text on the console. "
   ]
  },
  {
   "cell_type": "code",
   "execution_count": 1,
   "metadata": {},
   "outputs": [
    {
     "name": "stdout",
     "output_type": "stream",
     "text": [
      "Help on built-in function array in module numpy:\n",
      "\n",
      "array(...)\n",
      "    array(object, dtype=None, *, copy=True, order='K', subok=False, ndmin=0,\n",
      "          like=None)\n",
      "    \n",
      "    Create an array.\n",
      "    \n",
      "    Parameters\n",
      "    ----------\n",
      "    object : array_like\n",
      "        An array, any object exposing the array interface, an object whose\n",
      "        __array__ method returns an array, or any (nested) sequence.\n",
      "        If object is a scalar, a 0-dimensional array containing object is\n",
      "        returned.\n",
      "    dtype : data-type, optional\n",
      "        The desired data-type for the array.  If not given, then the type will\n",
      "        be determined as the minimum type required to hold the objects in the\n",
      "        sequence.\n",
      "    copy : bool, optional\n",
      "        If true (default), then the object is copied.  Otherwise, a copy will\n",
      "        only be made if __array__ returns a copy, if obj is a nested sequence,\n",
      "        or if a copy is needed to satisfy any of the other requirements\n",
      "        (`dtype`, `order`, etc.).\n",
      "    order : {'K', 'A', 'C', 'F'}, optional\n",
      "        Specify the memory layout of the array. If object is not an array, the\n",
      "        newly created array will be in C order (row major) unless 'F' is\n",
      "        specified, in which case it will be in Fortran order (column major).\n",
      "        If object is an array the following holds.\n",
      "    \n",
      "        ===== ========= ===================================================\n",
      "        order  no copy                     copy=True\n",
      "        ===== ========= ===================================================\n",
      "        'K'   unchanged F & C order preserved, otherwise most similar order\n",
      "        'A'   unchanged F order if input is F and not C, otherwise C order\n",
      "        'C'   C order   C order\n",
      "        'F'   F order   F order\n",
      "        ===== ========= ===================================================\n",
      "    \n",
      "        When ``copy=False`` and a copy is made for other reasons, the result is\n",
      "        the same as if ``copy=True``, with some exceptions for 'A', see the\n",
      "        Notes section. The default order is 'K'.\n",
      "    subok : bool, optional\n",
      "        If True, then sub-classes will be passed-through, otherwise\n",
      "        the returned array will be forced to be a base-class array (default).\n",
      "    ndmin : int, optional\n",
      "        Specifies the minimum number of dimensions that the resulting\n",
      "        array should have.  Ones will be prepended to the shape as\n",
      "        needed to meet this requirement.\n",
      "    like : array_like, optional\n",
      "        Reference object to allow the creation of arrays which are not\n",
      "        NumPy arrays. If an array-like passed in as ``like`` supports\n",
      "        the ``__array_function__`` protocol, the result will be defined\n",
      "        by it. In this case, it ensures the creation of an array object\n",
      "        compatible with that passed in via this argument.\n",
      "    \n",
      "        .. versionadded:: 1.20.0\n",
      "    \n",
      "    Returns\n",
      "    -------\n",
      "    out : ndarray\n",
      "        An array object satisfying the specified requirements.\n",
      "    \n",
      "    See Also\n",
      "    --------\n",
      "    empty_like : Return an empty array with shape and type of input.\n",
      "    ones_like : Return an array of ones with shape and type of input.\n",
      "    zeros_like : Return an array of zeros with shape and type of input.\n",
      "    full_like : Return a new array with shape of input filled with value.\n",
      "    empty : Return a new uninitialized array.\n",
      "    ones : Return a new array setting values to one.\n",
      "    zeros : Return a new array setting values to zero.\n",
      "    full : Return a new array of given shape filled with value.\n",
      "    \n",
      "    \n",
      "    Notes\n",
      "    -----\n",
      "    When order is 'A' and `object` is an array in neither 'C' nor 'F' order,\n",
      "    and a copy is forced by a change in dtype, then the order of the result is\n",
      "    not necessarily 'C' as expected. This is likely a bug.\n",
      "    \n",
      "    Examples\n",
      "    --------\n",
      "    >>> np.array([1, 2, 3])\n",
      "    array([1, 2, 3])\n",
      "    \n",
      "    Upcasting:\n",
      "    \n",
      "    >>> np.array([1, 2, 3.0])\n",
      "    array([ 1.,  2.,  3.])\n",
      "    \n",
      "    More than one dimension:\n",
      "    \n",
      "    >>> np.array([[1, 2], [3, 4]])\n",
      "    array([[1, 2],\n",
      "           [3, 4]])\n",
      "    \n",
      "    Minimum dimensions 2:\n",
      "    \n",
      "    >>> np.array([1, 2, 3], ndmin=2)\n",
      "    array([[1, 2, 3]])\n",
      "    \n",
      "    Type provided:\n",
      "    \n",
      "    >>> np.array([1, 2, 3], dtype=complex)\n",
      "    array([ 1.+0.j,  2.+0.j,  3.+0.j])\n",
      "    \n",
      "    Data-type consisting of more than one element:\n",
      "    \n",
      "    >>> x = np.array([(1,2),(3,4)],dtype=[('a','<i4'),('b','<i4')])\n",
      "    >>> x['a']\n",
      "    array([1, 3])\n",
      "    \n",
      "    Creating an array from sub-classes:\n",
      "    \n",
      "    >>> np.array(np.mat('1 2; 3 4'))\n",
      "    array([[1, 2],\n",
      "           [3, 4]])\n",
      "    \n",
      "    >>> np.array(np.mat('1 2; 3 4'), subok=True)\n",
      "    matrix([[1, 2],\n",
      "            [3, 4]])\n",
      "\n"
     ]
    }
   ],
   "source": [
    "import numpy as np\n",
    "help(np.array)"
   ]
  },
  {
   "cell_type": "markdown",
   "metadata": {},
   "source": [
    "#### Conventions and Python code formats\n",
    "A **convention** is an agreement that the community agreed on to do something in a consistent way.\n",
    "\n",
    "**PEP-8** - PEPs are Python Enhancement Proposals and they describe and define how the python formatting should be. PEP-8 mostly covers the coding style of using:\n",
    "1. formatting\n",
    "2. comments\n",
    "3. naming \n",
    "\n",
    "Conventions make code easier to read, understand, and maintain. Nobody likes to read code that are not indented properly, have no comments, and no documentation. Also, following the same formatting and styling benefits your collaboration with your team members. It allows all of your team members to style exactly the same code and it becomes much easier to read and write.\n",
    "\n",
    "> Indeed, the ratio of time spent reading versus writing is well over 10 to 1. \n",
    "> We are constantly reading old code as part of the effort to write new code. \n",
    "> Therefore making it easy to read makes it easier to write. **― Robert C. Martin**"
   ]
  },
  {
   "cell_type": "markdown",
   "metadata": {},
   "source": [
    "**Example of violating PEP-8**"
   ]
  },
  {
   "cell_type": "code",
   "execution_count": 2,
   "metadata": {},
   "outputs": [
    {
     "name": "stdout",
     "output_type": "stream",
     "text": [
      "dict_values([10, 30, 40, 232])\n"
     ]
    }
   ],
   "source": [
    "# exmp data\n",
    "exp_dict = {\n",
    "    'jj':  10,\n",
    "\"kk\":    30,\n",
    "    \"ll\":      40,\n",
    "    \"mm\":    232\n",
    "}\n",
    "# import packgs\n",
    "import numpy as np\n",
    "# function help\n",
    "def dicttoarray(d):\n",
    "    \"\"\"Convert dictionary values to numpy array\"\"\"\n",
    "    y = np.array(d.values())\n",
    "    return y\n",
    "print(dicttoarray(exp_dict))"
   ]
  },
  {
   "cell_type": "markdown",
   "metadata": {},
   "source": [
    "**Example of following PEP-8**\n"
   ]
  },
  {
   "cell_type": "code",
   "execution_count": 3,
   "metadata": {},
   "outputs": [
    {
     "name": "stdout",
     "output_type": "stream",
     "text": [
      "dict_values([10, 30, 40, 232])\n"
     ]
    }
   ],
   "source": [
    "# Import packages\n",
    "import numpy as np\n",
    "\n",
    "# Example data\n",
    "exp_dict = {'jj': 10, \"kk\": 30, \n",
    "            \"ll\": 40, \"mm\": 232}\n",
    "\n",
    "# Helper function\n",
    "def dict_to_array(d):\n",
    "    \"\"\"Convert dictionary values to numpy array\"\"\"\n",
    "    # Extract values and convert\n",
    "    y = np.array(d.values())\n",
    "    return y\n",
    "\n",
    "print(dict_to_array(exp_dict))"
   ]
  },
  {
   "cell_type": "markdown",
   "metadata": {},
   "source": [
    "### Writing Your first Package\n",
    "A **package** is a collection of Python modules. While a **module** is a single Python file, a package is a directory of Python modules containing an additional __init__.py file. This additional init file distinguishs a package from a directory that just happens to contain a bunch of Python scripts.\n",
    "\n",
    "\n",
    "<img style=\"\" src=\"images/packages_mod.png\"/>"
   ]
  },
  {
   "cell_type": "markdown",
   "metadata": {},
   "source": [
    "#### Let's write our first package\n",
    "* We will create a package that shows the input data's maximum, minimum, and median values.\n",
    "* We will create a sub-package that shows the distribution of the data."
   ]
  },
  {
   "cell_type": "markdown",
   "metadata": {},
   "source": [
    "#### 1. Create the package structure\n",
    "* Create a folder named **`stat_package`**\n",
    "* Create a file named **`__init__.py`**\n",
    "    * **`__init__.py`** is where our default package initializer and code should be\n",
    "    * Inside **`__init__.py`** we will write 3 distinct functions to return output of the given data\n",
    "    \n",
    "```python\n",
    "#Imports numpy package as np\n",
    "import numpy as np\n",
    "\n",
    "def max(data):\n",
    "    #Takes the data as np.array and returns the maximum value\n",
    "    return np.array(data).max()\n",
    "\n",
    "def min(data):\n",
    "    #Takes the data as np.array and returns the minimum value\n",
    "    return np.array(data).min()\n",
    "\n",
    "def median(data):\n",
    "    #Takes the data returns the median value\n",
    "    return np.median(data) \n",
    "    \n",
    "```\n",
    "      \n",
    "#### 2. Test out the **stat_package**\n",
    "* Import the stat_package\n",
    "* Print out the max, min, median values using the data given"
   ]
  },
  {
   "cell_type": "code",
   "execution_count": 3,
   "metadata": {},
   "outputs": [],
   "source": [
    "data = [20, 32, 21, 23, 34, 35, 23, 25, 32, 31, 29, 36, 31, 22, 25]"
   ]
  },
  {
   "cell_type": "code",
   "execution_count": 5,
   "metadata": {},
   "outputs": [],
   "source": [
    "import stat_package"
   ]
  },
  {
   "cell_type": "code",
   "execution_count": 7,
   "metadata": {},
   "outputs": [
    {
     "name": "stdout",
     "output_type": "stream",
     "text": [
      "Maximum value of the data: 36\n",
      "Minimum value of the data: 20\n",
      "Median value of the data: 29.0\n"
     ]
    }
   ],
   "source": [
    "print(\"Maximum value of the data:\", stat_package.max(data))\n",
    "print(\"Minimum value of the data:\", stat_package.min(data))\n",
    "print(\"Median value of the data:\", stat_package.median(data))"
   ]
  },
  {
   "cell_type": "markdown",
   "metadata": {},
   "source": [
    "Since our test has succeeded let's write a sub-package that plots the distribution of the data.\n",
    "#### 3. Create a sub package of `stat_package`\n",
    "* Create a folder named **`graphy`** \n",
    "* Create a file named **`__init__.py`**\n",
    "    * Inside **`__init__.py`** we will write simple function that stores data as a DataFrame and plots it\n",
    "    ```python\n",
    "    #Imports pandas package as pd\n",
    "    import pandas as pd\n",
    "\n",
    "    def plot_data(data):\n",
    "        # Stores data as DataFrame and returns the plot\n",
    "        ax = pd.DataFrame(data).plot.hist()\n",
    "        return ax\n",
    "    ```\n",
    "    \n",
    "#### 4. Test out the graphy sub package \n",
    "* Import the graphy package\n",
    "* Call the plot_data function with the given data to see the distribution"
   ]
  },
  {
   "cell_type": "code",
   "execution_count": 4,
   "metadata": {},
   "outputs": [],
   "source": [
    "import graphy.graphyyy as plotty"
   ]
  },
  {
   "cell_type": "code",
   "execution_count": 5,
   "metadata": {},
   "outputs": [
    {
     "data": {
      "text/plain": [
       "<Axes: ylabel='Frequency'>"
      ]
     },
     "execution_count": 5,
     "metadata": {},
     "output_type": "execute_result"
    },
    {
     "data": {
      "image/png": "[encoded data removed]",
      "text/plain": [
       "<Figure size 640x480 with 1 Axes>"
      ]
     },
     "metadata": {},
     "output_type": "display_data"
    }
   ],
   "source": [
    "plotty.plot_data(data)"
   ]
  },
  {
   "cell_type": "code",
   "execution_count": null,
   "metadata": {},
   "outputs": [],
   "source": []
  }
 ],
 "metadata": {
  "kernelspec": {
   "display_name": "Python 3 (ipykernel)",
   "language": "python",
   "name": "python3"
  },
  "language_info": {
   "codemirror_mode": {
    "name": "ipython",
    "version": 3
   },
   "file_extension": ".py",
   "mimetype": "text/x-python",
   "name": "python",
   "nbconvert_exporter": "python",
   "pygments_lexer": "ipython3",
   "version": "3.8.17"
  }
 },
 "nbformat": 4,
 "nbformat_minor": 4
}
