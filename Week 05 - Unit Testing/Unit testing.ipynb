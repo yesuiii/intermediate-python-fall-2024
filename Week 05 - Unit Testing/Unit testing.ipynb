{
 "cells": [
  {
   "cell_type": "markdown",
   "metadata": {},
   "source": [
    "# Introduction to Unit Testing\n",
    "In computer programming, unit testing is a software testing method by which individual units of source code—sets of one or more computer program modules together with associated control data, usage procedures, and operating procedures—are tested to determine whether they are fit for use.\n",
    "* The **goal** of unit testing is to prove the functions and modules are working *separately* and *collaboratively*. Isolating each sections and modules by its logical boundaries and confirming the codes are working as it intended. \n",
    "* Unit testing can provide in-depth look of the code depending on the **test cases**.\n",
    "\n",
    "Test case should consider all possible kinds of input a function could receive from users, and therefore should include tests to represent each of these situations.\n",
    "\n",
    "Unit testing also helps developers to communicate effectively with the managers or clients by presenting the tests that are used and the results."
   ]
  },
  {
   "cell_type": "markdown",
   "metadata": {},
   "source": [
    "### Unit testing is basically making sure if functions output expected results by using [**assert methods**](https://docs.python.org/3/library/unittest.html#unittest.TestCase.debug)\n",
    "\n",
    "| Method                      | Checks that              |\n",
    "|-----------------------------|--------------------------|\n",
    "| assertEqual(a,   b)         | a   ==   b               |\n",
    "| assertNotEqual(a,   b)      | a   !=   b               |\n",
    "| assertTrue(x)               | bool(x)   is   True      |\n",
    "| assertFalse(x)              | bool(x)   is   False     |\n",
    "| assertIs(a,   b)            | a   is   b               |\n",
    "| assertIsNot(a,   b)         | a   is   not   b         |\n",
    "| assertIsNone(x)             | x   is   None            |\n",
    "| assertIsNotNone(x)          | x   is   not   None      |\n",
    "| assertIn(a,   b)            | a   in   b               |\n",
    "| assertNotIn(a,   b)         | a   not   in   b         |\n",
    "| assertIsInstance(a,   b)    | isinstance(a,   b)       |\n",
    "| assertNotIsInstance(a,   b) | not   isinstance(a,   b) |"
   ]
  },
  {
   "cell_type": "markdown",
   "metadata": {
    "tags": []
   },
   "source": [
    "### Example 1 shows how to test simple functions from a module called(calc)\n",
    "#### Check out the [**calc.py**](calc.py) before looking at the test functionality\n",
    "\n",
    "* Import python's standard unittest library\n",
    "* Import the testing module(**calc**)\n",
    "* Create a class named TestCalc that inherits unittest.TestCase\n",
    "\n",
    "#### Let's test the **add** function from **calc** module\n",
    "\n",
    "* Methods in TestCalc class must start with **test_\"name here\"** \n",
    "* We will use **assertEqual()** method to test if the add function works properly. By feeding 10 and 5 to the add function, we expect the result to be 15. And if the function works as expected, unit test will return **OK**.\n",
    "\n",
    "\n",
    "\n"
   ]
  },
  {
   "cell_type": "markdown",
   "metadata": {},
   "source": [
    "You can learn more about the library `unittest` here: https://docs.python.org/3/library/unittest.html"
   ]
  },
  {
   "cell_type": "code",
   "execution_count": 2,
   "metadata": {},
   "outputs": [
    {
     "name": "stderr",
     "output_type": "stream",
     "text": [
      "F\n",
      "======================================================================\n",
      "FAIL: test_add (__main__.TestCalc)\n",
      "----------------------------------------------------------------------\n",
      "Traceback (most recent call last):\n",
      "  File \"/var/folders/18/c50ls90x289_33gkw13y1x_r0000gn/T/ipykernel_5434/3209283255.py\", line 10, in test_add\n",
      "    self.assertEqual(result, 14)\n",
      "AssertionError: 15 != 14\n",
      "\n",
      "----------------------------------------------------------------------\n",
      "Ran 1 test in 0.001s\n",
      "\n",
      "FAILED (failures=1)\n"
     ]
    }
   ],
   "source": [
    "import unittest\n",
    "import calc\n",
    "\n",
    "class TestCalc(unittest.TestCase):\n",
    "    # Creating the method to test add\n",
    "    def test_add(self):\n",
    "        # Saving the add function's result\n",
    "        result = calc.add(10, 5)\n",
    "        # assertEqual's 1st argument is the result and 2nd argument is the expected result\n",
    "        self.assertEqual(result, 14)\n",
    "\n",
    "        \n",
    "if __name__ == '__main__':\n",
    "    unittest.main(argv=['first-arg-is-ignored'], exit=False)"
   ]
  },
  {
   "cell_type": "markdown",
   "metadata": {},
   "source": [
    "#### Now let's look at the example of failing the unittest\n",
    "* We change our expected result to 14 and intentionally fail our function"
   ]
  },
  {
   "cell_type": "code",
   "execution_count": 3,
   "metadata": {},
   "outputs": [
    {
     "name": "stderr",
     "output_type": "stream",
     "text": [
      "F\n",
      "======================================================================\n",
      "FAIL: test_add (__main__.TestCalc)\n",
      "----------------------------------------------------------------------\n",
      "Traceback (most recent call last):\n",
      "  File \"/var/folders/18/c50ls90x289_33gkw13y1x_r0000gn/T/ipykernel_5434/775746177.py\", line 6, in test_add\n",
      "    self.assertEqual(result, 14)\n",
      "AssertionError: 15 != 14\n",
      "\n",
      "----------------------------------------------------------------------\n",
      "Ran 1 test in 0.003s\n",
      "\n",
      "FAILED (failures=1)\n"
     ]
    }
   ],
   "source": [
    "class TestCalc(unittest.TestCase):\n",
    "    # Creating the method to test add\n",
    "    def test_add(self):\n",
    "        # Saving the add function's result\n",
    "        result = calc.add(10, 5)\n",
    "        self.assertEqual(result, 14)\n",
    "\n",
    "if __name__ == '__main__':\n",
    "    unittest.main(argv=['first-arg-is-ignored'], exit=False)"
   ]
  },
  {
   "cell_type": "markdown",
   "metadata": {},
   "source": [
    "#### All the methods in the TestCalc class must start with **test_\"name here\"**\n",
    "* Let's see what happens if we name our method starting with other than **test_**"
   ]
  },
  {
   "cell_type": "code",
   "execution_count": 4,
   "metadata": {},
   "outputs": [
    {
     "name": "stderr",
     "output_type": "stream",
     "text": [
      "\n",
      "----------------------------------------------------------------------\n",
      "Ran 0 tests in 0.000s\n",
      "\n",
      "OK\n"
     ]
    }
   ],
   "source": [
    "class TestCalc(unittest.TestCase):\n",
    "    # Method not starting with test_\n",
    "    def add_test(self):\n",
    "        # Saving the add function's result\n",
    "        result = calc.add(10, 5)\n",
    "        self.assertEqual(result, 14)\n",
    "\n",
    "if __name__ == '__main__':\n",
    "    unittest.main(argv=['first-arg-is-ignored'], exit=False)"
   ]
  },
  {
   "cell_type": "markdown",
   "metadata": {},
   "source": [
    "#### Unittest ran 0 test because it could not find any method starting with **test_**"
   ]
  },
  {
   "cell_type": "markdown",
   "metadata": {},
   "source": [
    "#### Let's test all the functions in the **calc.py** module"
   ]
  },
  {
   "cell_type": "code",
   "execution_count": 5,
   "metadata": {},
   "outputs": [
    {
     "name": "stderr",
     "output_type": "stream",
     "text": [
      "....\n",
      "----------------------------------------------------------------------\n",
      "Ran 4 tests in 0.003s\n",
      "\n",
      "OK\n"
     ]
    }
   ],
   "source": [
    "# Inheritting from unittest.TestCase\n",
    "class TestCalc(unittest.TestCase):\n",
    "\n",
    "    def test_add(self):\n",
    "        self.assertEqual(calc.add(10, 5), 15)\n",
    "        # Make some edge cases\n",
    "        self.assertEqual(calc.add(-1, 1), 0)\n",
    "        self.assertEqual(calc.add(-1, -1), -2)\n",
    "\n",
    "    def test_subtract(self):\n",
    "        self.assertEqual(calc.subtract(10, 5), 5)\n",
    "        self.assertEqual(calc.subtract(-1, 1), -2)\n",
    "        self.assertEqual(calc.subtract(-1, -1), 0)\n",
    "\n",
    "    def test_multiply(self):\n",
    "        self.assertEqual(calc.multiply(10, 5), 50)\n",
    "        self.assertEqual(calc.multiply(-1, 1), -1)\n",
    "        self.assertEqual(calc.multiply(-1, -1), 1)\n",
    "\n",
    "    def test_divide(self):\n",
    "        self.assertEqual(calc.divide(10, 5), 2)\n",
    "        self.assertEqual(calc.divide(-1, 1), -1)\n",
    "        self.assertEqual(calc.divide(-1, -1), 1)\n",
    "\n",
    "        # Testing if it raises a value error\n",
    "        with self.assertRaises(ValueError):\n",
    "            calc.divide(10, 0)\n",
    "            \n",
    "if __name__ == '__main__':\n",
    "    unittest.main(argv=['first-arg-is-ignored'], exit=False)"
   ]
  },
  {
   "cell_type": "markdown",
   "metadata": {},
   "source": [
    "### Example 2 shows how to test module's class\n",
    "#### Check out the [**worker.py**](worker.py) before looking at the test functionality. You may remember this python example from the OOP notebook\n",
    "\n",
    "* **[worker.py]** should be able to get the worker's first name and last name and salary, and increase their salary by 20 percent. \n",
    "* We will test out the **fullname()** and **apply_raise()** functions"
   ]
  },
  {
   "cell_type": "code",
   "execution_count": 6,
   "metadata": {},
   "outputs": [
    {
     "name": "stderr",
     "output_type": "stream",
     "text": [
      "......\n",
      "----------------------------------------------------------------------\n",
      "Ran 6 tests in 0.003s\n",
      "\n",
      "OK\n"
     ]
    }
   ],
   "source": [
    "# Import unittest and NormalIncrease class from worker\n",
    "import unittest\n",
    "from worker import NormalIncrease\n",
    "\n",
    "class TestNormalIncrease(unittest.TestCase):\n",
    "\n",
    "    def test_fullname(self):\n",
    "        dorj = NormalIncrease(\"Dorj\",\"Misha\", 800000)\n",
    "        myagmar = NormalIncrease(\"Myagmar\",\"Bold\", 760000)\n",
    "\n",
    "        self.assertEqual(dorj.fullname(), 'Dorj Misha')\n",
    "        self.assertEqual(myagmar.fullname(), 'Myagmar Bold')\n",
    "\n",
    "        # We will change lastnames just to make sure the lastnames have been changed in the object\n",
    "        dorj.lname = \"Huyag\"\n",
    "        myagmar.lname = \"Gan\"\n",
    "\n",
    "        self.assertEqual(dorj.fullname(), \"Dorj Huyag\")\n",
    "        self.assertEqual(myagmar.fullname(), \"Myagmar Gan\")\n",
    "\n",
    "    def test_apply_raise(self):\n",
    "        dorj = NormalIncrease(\"Dorj\",\"Misha\", 800000)\n",
    "        myagmar = NormalIncrease(\"Myagmar\",\"Bold\", 760000)\n",
    "\n",
    "        # 800000*1.2 = 960000(Dorj's expected salary)\n",
    "        # 760000*1.2 = 912000(Myagmar's expected salary)\n",
    "        dorj.apply_raise()\n",
    "        myagmar.apply_raise()\n",
    "\n",
    "        self.assertEqual(dorj.salary, 960000)\n",
    "        self.assertEqual(myagmar.salary, 912000)\n",
    "\n",
    "if __name__ == '__main__':\n",
    "    unittest.main(argv=['first-arg-is-ignored'], exit=False)"
   ]
  },
  {
   "cell_type": "markdown",
   "metadata": {},
   "source": [
    "#### There are a few minor problems in example **above**.\n",
    "1. We repeated dorj and myagmar objects in every methods we call\n",
    "2. We don't know when the first test started and finished even if it finished. You would have to test hundreds of functions in real life, and you can't locate which tests have been passed or which test has started. "
   ]
  },
  {
   "cell_type": "markdown",
   "metadata": {},
   "source": [
    "#### Let's update the example above \n",
    "\n",
    "**Unit tests do not get executed in order**\n",
    "\n",
    "**DRY(Don't repeat yourself)**- We will use \n",
    "* **setUpClass** to indicate the start of a big unittest\n",
    "* **tearDownClass** to indicate the end of a big unittest\n",
    "* **setUp** to setup initial state of the objects and indicate the start of a inidividual test. And called before the invocation of each test method in the given class.\n",
    "* **tearDown** to indicate the end of an inidividual test. And called after the invocation of each test method in given class.\n",
    "\n",
    "* Basically **setUp** method resets everytime a method in a class invokes. And **tearDown** method cleans everytime a method executes something.\n",
    "\n",
    "#### We can now access the dorj and myagmar objects by calling **self.dorj/myagmar**"
   ]
  },
  {
   "cell_type": "code",
   "execution_count": 7,
   "metadata": {},
   "outputs": [],
   "source": [
    "class TestNormalIncrease(unittest.TestCase):\n",
    "    @classmethod\n",
    "    def setUp(self):\n",
    "        print(\"setUp\")\n",
    "        self.dorj = NormalIncrease(\"Dorj\",\"Misha\",)\n",
    "        self.myagmar = NormalIncrease(\"Myagmar\",\"Bold\",)"
   ]
  },
  {
   "cell_type": "code",
   "execution_count": 8,
   "metadata": {},
   "outputs": [
    {
     "name": "stderr",
     "output_type": "stream",
     "text": [
      "....\n",
      "----------------------------------------------------------------------\n",
      "Ran 4 tests in 0.003s\n",
      "\n",
      "OK\n"
     ]
    }
   ],
   "source": [
    "if __name__ == '__main__':\n",
    "    unittest.main(argv=['first-arg-is-ignored'], exit=False)"
   ]
  },
  {
   "cell_type": "code",
   "execution_count": 12,
   "metadata": {
    "scrolled": true
   },
   "outputs": [
    {
     "name": "stderr",
     "output_type": "stream",
     "text": [
      "......"
     ]
    },
    {
     "name": "stdout",
     "output_type": "stream",
     "text": [
      "Big test started \n",
      "\n",
      "setUp\n",
      "test_apply_raise\n",
      "tearDown \n",
      "\n",
      "setUp\n",
      "test_fullname\n",
      "tearDown \n",
      "\n",
      "Big test end\n"
     ]
    },
    {
     "name": "stderr",
     "output_type": "stream",
     "text": [
      "\n",
      "----------------------------------------------------------------------\n",
      "Ran 6 tests in 0.004s\n",
      "\n",
      "OK\n"
     ]
    }
   ],
   "source": [
    "class TestNormalIncrease(unittest.TestCase):\n",
    "    @classmethod\n",
    "    def setUpClass(cls):\n",
    "        print(\"Big test started \\n\")\n",
    "\n",
    "    @classmethod\n",
    "    def tearDownClass(cls):\n",
    "        print(\"Big test end\")\n",
    "\n",
    "    def setUp(self):\n",
    "        print(\"setUp\")\n",
    "        self.dorj = NormalIncrease(\"Dorj\",\"Misha\", 800000)\n",
    "        self.myagmar = NormalIncrease(\"Myagmar\",\"Bold\", 760000)\n",
    "\n",
    "    def tearDown(self):\n",
    "        print(\"tearDown \\n\")\n",
    "\n",
    "    def test_fullname(self):\n",
    "        print(\"test_fullname\")\n",
    "        self.assertEqual(self.dorj.fullname(), 'Dorj Misha')\n",
    "        self.assertEqual(self.myagmar.fullname(), 'Myagmar Bold')\n",
    "\n",
    "        # We will change lastnames just to check the lastnames have been changed in the object\n",
    "        self.dorj.lname = \"Huyag\"\n",
    "        self.myagmar.lname = \"Gan\"\n",
    "\n",
    "        self.assertEqual(self.dorj.fullname(), \"Dorj Huyag\")\n",
    "        self.assertEqual(self.myagmar.fullname(), \"Myagmar Gan\")\n",
    "\n",
    "    def test_apply_raise(self):\n",
    "        print(\"test_apply_raise\")\n",
    "        # 800000*1.2 = 960000(Dorj's expected salary)\n",
    "        # 760000*1.2 = 912000(Myagmar's expected salary)\n",
    "        self.dorj.apply_raise()\n",
    "        self.myagmar.apply_raise()\n",
    "\n",
    "        self.assertEqual(self.dorj.salary, 960000)\n",
    "        self.assertEqual(self.myagmar.salary, 912000)\n",
    "\n",
    "if __name__ == '__main__':\n",
    "    unittest.main(argv=['first-arg-is-ignored'], exit=False)"
   ]
  },
  {
   "cell_type": "markdown",
   "metadata": {},
   "source": [
    "#### It is very important to make separate `python` test files, due to Jupyter Notebook environment being immature for the Unit Testing"
   ]
  },
  {
   "cell_type": "code",
   "execution_count": 19,
   "metadata": {},
   "outputs": [
    {
     "name": "stdout",
     "output_type": "stream",
     "text": [
      ".\n",
      "----------------------------------------------------------------------\n",
      "Ran 1 test in 0.000s\n",
      "\n",
      "OK\n"
     ]
    }
   ],
   "source": [
    "!python test.py"
   ]
  },
  {
   "cell_type": "code",
   "execution_count": 20,
   "metadata": {},
   "outputs": [
    {
     "name": "stdout",
     "output_type": "stream",
     "text": [
      "Big test started \n",
      "\n",
      "setUp\n",
      "test_apply_raise\n",
      "tearDown \n",
      "\n",
      ".setUp\n",
      "test_fullname\n",
      "tearDown \n",
      "\n",
      ".Big test end\n",
      "\n",
      "----------------------------------------------------------------------\n",
      "Ran 2 tests in 0.000s\n",
      "\n",
      "OK\n"
     ]
    }
   ],
   "source": [
    "!python test_class.py"
   ]
  },
  {
   "cell_type": "code",
   "execution_count": null,
   "metadata": {},
   "outputs": [],
   "source": []
  }
 ],
 "metadata": {
  "kernelspec": {
   "display_name": "Python 3 (ipykernel)",
   "language": "python",
   "name": "python3"
  },
  "language_info": {
   "codemirror_mode": {
    "name": "ipython",
    "version": 3
   },
   "file_extension": ".py",
   "mimetype": "text/x-python",
   "name": "python",
   "nbconvert_exporter": "python",
   "pygments_lexer": "ipython3",
   "version": "3.8.17"
  }
 },
 "nbformat": 4,
 "nbformat_minor": 4
}
